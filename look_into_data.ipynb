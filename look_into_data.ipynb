{
 "cells": [
  {
   "cell_type": "code",
   "execution_count": 3,
   "metadata": {},
   "outputs": [],
   "source": [
    "import pandas as pd\n",
    "import matplotlib.pyplot as plt\n",
    "import numpy as np\n"
   ]
  },
  {
   "cell_type": "code",
   "execution_count": 4,
   "metadata": {},
   "outputs": [
    {
     "name": "stderr",
     "output_type": "stream",
     "text": [
      "C:\\Users\\sce2rng\\AppData\\Local\\Temp\\ipykernel_9632\\121390373.py:3: DtypeWarning: Columns (0,2,66) have mixed types. Specify dtype option on import or set low_memory=False.\n",
      "  data = pd.read_csv(pathData, sep=\";\")\n"
     ]
    }
   ],
   "source": [
    "\n",
    "pathData = r\"C:\\data\\udacity\\airbnb_global\\airbnb-listings.csv\"\n",
    "\n",
    "data = pd.read_csv(pathData, sep=\";\")"
   ]
  },
  {
   "cell_type": "code",
   "execution_count": 5,
   "metadata": {},
   "outputs": [
    {
     "name": "stdout",
     "output_type": "stream",
     "text": [
      "United States     134545\n",
      "United Kingdom     61041\n",
      "France             56562\n",
      "Spain              45844\n",
      "Australia          40693\n",
      "Italy              33146\n",
      "Canada             30787\n",
      "Germany            20576\n",
      "Denmark            20545\n",
      "Netherlands        15181\n",
      "Austria             7893\n",
      "Belgium             7419\n",
      "Ireland             6729\n",
      "Hong Kong           6423\n",
      "Greece              5127\n",
      "Switzerland         2381\n",
      "China                 51\n",
      "Mexico                 2\n",
      "Vatican City           2\n",
      "Vanuatu                1\n",
      "Uruguay                1\n",
      "Cuba                   1\n",
      "0                      1\n",
      "Name: Country, dtype: int64\n",
      "number of different countrys: 24\n"
     ]
    },
    {
     "data": {
      "text/html": [
       "<div>\n",
       "<style scoped>\n",
       "    .dataframe tbody tr th:only-of-type {\n",
       "        vertical-align: middle;\n",
       "    }\n",
       "\n",
       "    .dataframe tbody tr th {\n",
       "        vertical-align: top;\n",
       "    }\n",
       "\n",
       "    .dataframe thead th {\n",
       "        text-align: right;\n",
       "    }\n",
       "</style>\n",
       "<table border=\"1\" class=\"dataframe\">\n",
       "  <thead>\n",
       "    <tr style=\"text-align: right;\">\n",
       "      <th></th>\n",
       "      <th>ID</th>\n",
       "      <th>Listing Url</th>\n",
       "      <th>Scrape ID</th>\n",
       "      <th>Last Scraped</th>\n",
       "      <th>Name</th>\n",
       "      <th>Summary</th>\n",
       "      <th>Space</th>\n",
       "      <th>Description</th>\n",
       "      <th>Experiences Offered</th>\n",
       "      <th>Neighborhood Overview</th>\n",
       "      <th>...</th>\n",
       "      <th>Review Scores Communication</th>\n",
       "      <th>Review Scores Location</th>\n",
       "      <th>Review Scores Value</th>\n",
       "      <th>License</th>\n",
       "      <th>Jurisdiction Names</th>\n",
       "      <th>Cancellation Policy</th>\n",
       "      <th>Calculated host listings count</th>\n",
       "      <th>Reviews per Month</th>\n",
       "      <th>Geolocation</th>\n",
       "      <th>Features</th>\n",
       "    </tr>\n",
       "  </thead>\n",
       "  <tbody>\n",
       "    <tr>\n",
       "      <th>179209</th>\n",
       "      <td>I am a big out doors fan.</td>\n",
       "      <td>within a day</td>\n",
       "      <td>100%</td>\n",
       "      <td>NaN</td>\n",
       "      <td>f</td>\n",
       "      <td>https://a0.muscache.com/im/users/4262230/profi...</td>\n",
       "      <td>https://a0.muscache.com/im/users/4262230/profi...</td>\n",
       "      <td>Mission District</td>\n",
       "      <td>1</td>\n",
       "      <td>1</td>\n",
       "      <td>...</td>\n",
       "      <td>NaN</td>\n",
       "      <td>NaN</td>\n",
       "      <td>NaN</td>\n",
       "      <td>NaN</td>\n",
       "      <td>NaN</td>\n",
       "      <td>NaN</td>\n",
       "      <td>NaN</td>\n",
       "      <td>NaN</td>\n",
       "      <td>0.0, 27.0</td>\n",
       "      <td>Host Is Superhost,Host Identity Verified,Is Lo...</td>\n",
       "    </tr>\n",
       "  </tbody>\n",
       "</table>\n",
       "<p>1 rows × 89 columns</p>\n",
       "</div>"
      ],
      "text/plain": [
       "                               ID   Listing Url Scrape ID Last Scraped Name  \\\n",
       "179209  I am a big out doors fan.  within a day      100%          NaN    f   \n",
       "\n",
       "                                                  Summary  \\\n",
       "179209  https://a0.muscache.com/im/users/4262230/profi...   \n",
       "\n",
       "                                                    Space       Description  \\\n",
       "179209  https://a0.muscache.com/im/users/4262230/profi...  Mission District   \n",
       "\n",
       "       Experiences Offered Neighborhood Overview  ...  \\\n",
       "179209                   1                     1  ...   \n",
       "\n",
       "       Review Scores Communication Review Scores Location Review Scores Value  \\\n",
       "179209                         NaN                    NaN                 NaN   \n",
       "\n",
       "       License Jurisdiction Names Cancellation Policy  \\\n",
       "179209     NaN                NaN                 NaN   \n",
       "\n",
       "       Calculated host listings count Reviews per Month Geolocation  \\\n",
       "179209                            NaN               NaN   0.0, 27.0   \n",
       "\n",
       "                                                 Features  \n",
       "179209  Host Is Superhost,Host Identity Verified,Is Lo...  \n",
       "\n",
       "[1 rows x 89 columns]"
      ]
     },
     "metadata": {},
     "output_type": "display_data"
    }
   ],
   "source": [
    "print(data['Country'].value_counts())\n",
    "print(f\"number of different countrys: {len(data['Country'].unique())}\")\n",
    "# get row ind data whre COuntry is 0\n",
    "display(data[data['Country'] == '0'])"
   ]
  },
  {
   "cell_type": "code",
   "execution_count": 6,
   "metadata": {},
   "outputs": [
    {
     "name": "stdout",
     "output_type": "stream",
     "text": [
      "494954\n",
      "494953\n"
     ]
    }
   ],
   "source": [
    "# drop raw from data where Country is 0 (corrupt row)\n",
    "print(len(data))\n",
    "data = data[data['Country'] != '0']\n",
    "print(len(data))"
   ]
  },
  {
   "cell_type": "code",
   "execution_count": 7,
   "metadata": {},
   "outputs": [
    {
     "name": "stdout",
     "output_type": "stream",
     "text": [
      "Index(['ID', 'Listing Url', 'Scrape ID', 'Last Scraped', 'Name', 'Summary',\n",
      "       'Space', 'Description', 'Experiences Offered', 'Neighborhood Overview',\n",
      "       'Notes', 'Transit', 'Access', 'Interaction', 'House Rules',\n",
      "       'Thumbnail Url', 'Medium Url', 'Picture Url', 'XL Picture Url',\n",
      "       'Host ID', 'Host URL', 'Host Name', 'Host Since', 'Host Location',\n",
      "       'Host About', 'Host Response Time', 'Host Response Rate',\n",
      "       'Host Acceptance Rate', 'Host Thumbnail Url', 'Host Picture Url',\n",
      "       'Host Neighbourhood', 'Host Listings Count',\n",
      "       'Host Total Listings Count', 'Host Verifications', 'Street',\n",
      "       'Neighbourhood', 'Neighbourhood Cleansed',\n",
      "       'Neighbourhood Group Cleansed', 'City', 'State', 'Zipcode', 'Market',\n",
      "       'Smart Location', 'Country Code', 'Country', 'Latitude', 'Longitude',\n",
      "       'Property Type', 'Room Type', 'Accommodates', 'Bathrooms', 'Bedrooms',\n",
      "       'Beds', 'Bed Type', 'Amenities', 'Square Feet', 'Price', 'Weekly Price',\n",
      "       'Monthly Price', 'Security Deposit', 'Cleaning Fee', 'Guests Included',\n",
      "       'Extra People', 'Minimum Nights', 'Maximum Nights', 'Calendar Updated',\n",
      "       'Has Availability', 'Availability 30', 'Availability 60',\n",
      "       'Availability 90', 'Availability 365', 'Calendar last Scraped',\n",
      "       'Number of Reviews', 'First Review', 'Last Review',\n",
      "       'Review Scores Rating', 'Review Scores Accuracy',\n",
      "       'Review Scores Cleanliness', 'Review Scores Checkin',\n",
      "       'Review Scores Communication', 'Review Scores Location',\n",
      "       'Review Scores Value', 'License', 'Jurisdiction Names',\n",
      "       'Cancellation Policy', 'Calculated host listings count',\n",
      "       'Reviews per Month', 'Geolocation', 'Features'],\n",
      "      dtype='object')\n"
     ]
    }
   ],
   "source": [
    "print(data.columns)"
   ]
  },
  {
   "cell_type": "code",
   "execution_count": 8,
   "metadata": {},
   "outputs": [
    {
     "name": "stdout",
     "output_type": "stream",
     "text": [
      "Attribute error\n",
      "40783\n",
      "nan\n",
      "nan\n",
      "nan\n",
      "0\n"
     ]
    }
   ],
   "source": [
    "# smale validation of data by pack Latitude and Longitude together by \", \" and check with Geolocation\n",
    "wrongRows = []\n",
    "for index, row in data.iterrows():\n",
    "    try:\n",
    "        geoLat = str(round(float(row['Geolocation'].split(',')[0]), 13))\n",
    "        geoLon = str(round(float(row['Geolocation'].split(',')[1]), 13))\n",
    "        geoRound = geoLat + \", \" + geoLon\n",
    "    #print(geoRound)\n",
    "        lat = str(round(row['Latitude'], 13))\n",
    "        lon = str(round(row['Longitude'], 13))\n",
    "    except AttributeError:\n",
    "        print(\"Attribute error\")\n",
    "        print(index)\n",
    "        print(row['Latitude'])\n",
    "        print(row['Longitude'])\n",
    "        print(row['Geolocation'])\n",
    "\n",
    "    latLonRound = lat + \", \" + lon\n",
    "    if (latLonRound != geoRound) and (geoLat[-2] != lat[-2]) and (geoLon[-2] != lon[-2]):\n",
    "        print(lat)\n",
    "        print(lon)\n",
    "        print(geoRound)\n",
    "        print(row['Geolocation'])\n",
    "        wrongRows.append(index)\n",
    "print(len(wrongRows))"
   ]
  },
  {
   "cell_type": "code",
   "execution_count": 9,
   "metadata": {},
   "outputs": [],
   "source": [
    "dataSel = data[['Price', 'Country', 'City', 'Latitude', 'Longitude', 'Review Scores Rating', 'Number of Reviews', 'Transit', 'Host Location', 'Property Type', 'Room Type', 'Square Feet', 'Guests Included']]"
   ]
  },
  {
   "cell_type": "code",
   "execution_count": 10,
   "metadata": {},
   "outputs": [
    {
     "data": {
      "text/plain": [
       "0                                                       NaN\n",
       "1              Public transport is very close  - 100 meters\n",
       "2                                                       NaN\n",
       "3         A few important spots in the city: - van Gogh ...\n",
       "4                                                       NaN\n",
       "                                ...                        \n",
       "494949                                                  NaN\n",
       "494950    There a bus stop 1 minute away and Yarraville ...\n",
       "494951                                                  NaN\n",
       "494952    Tram 82 stops right in front of the studio. It...\n",
       "494953                                                  NaN\n",
       "Name: Transit, Length: 494953, dtype: object"
      ]
     },
     "execution_count": 10,
     "metadata": {},
     "output_type": "execute_result"
    }
   ],
   "source": [
    "data['Transit']"
   ]
  },
  {
   "cell_type": "code",
   "execution_count": 11,
   "metadata": {},
   "outputs": [
    {
     "data": {
      "text/plain": [
       "0         0\n",
       "1         1\n",
       "2         0\n",
       "3         1\n",
       "4         0\n",
       "         ..\n",
       "494949    0\n",
       "494950    1\n",
       "494951    0\n",
       "494952    1\n",
       "494953    0\n",
       "Name: Transit, Length: 494953, dtype: int32"
      ]
     },
     "execution_count": 11,
     "metadata": {},
     "output_type": "execute_result"
    }
   ],
   "source": [
    "a = ~data['Transit'].isna()\n",
    "a.astype(int)\n"
   ]
  },
  {
   "cell_type": "code",
   "execution_count": 12,
   "metadata": {},
   "outputs": [
    {
     "data": {
      "text/plain": [
       "0          89.0\n",
       "1          99.0\n",
       "2         100.0\n",
       "3          97.0\n",
       "4          78.0\n",
       "          ...  \n",
       "494949     60.0\n",
       "494950     93.0\n",
       "494951    100.0\n",
       "494952      NaN\n",
       "494953      NaN\n",
       "Name: Review Scores Rating, Length: 494953, dtype: float64"
      ]
     },
     "execution_count": 12,
     "metadata": {},
     "output_type": "execute_result"
    }
   ],
   "source": [
    "data['Review Scores Rating']"
   ]
  },
  {
   "cell_type": "code",
   "execution_count": 13,
   "metadata": {},
   "outputs": [
    {
     "data": {
      "text/plain": [
       "<AxesSubplot:title={'center':'Room Type distribution'}>"
      ]
     },
     "execution_count": 13,
     "metadata": {},
     "output_type": "execute_result"
    },
    {
     "data": {
      "image/png": "[encoded data removed]",
      "text/plain": [
       "<Figure size 1000x500 with 1 Axes>"
      ]
     },
     "metadata": {},
     "output_type": "display_data"
    }
   ],
   "source": [
    "data['Room Type'].value_counts()\n",
    "data['Room Type'].value_counts().plot(kind='bar', figsize=(10,5), title='Room Type distribution')"
   ]
  },
  {
   "cell_type": "code",
   "execution_count": 14,
   "metadata": {},
   "outputs": [
    {
     "data": {
      "text/plain": [
       "<AxesSubplot:title={'center':'Property Type distribution'}>"
      ]
     },
     "execution_count": 14,
     "metadata": {},
     "output_type": "execute_result"
    },
    {
     "data": {
      "image/png": "[encoded data removed]",
      "text/plain": [
       "<Figure size 1000x500 with 1 Axes>"
      ]
     },
     "metadata": {},
     "output_type": "display_data"
    }
   ],
   "source": [
    "#data['Property Type'].value_counts()\n",
    "data['Property Type'].value_counts().plot(kind='bar', figsize=(10,5), title='Property Type distribution')"
   ]
  },
  {
   "cell_type": "code",
   "execution_count": 15,
   "metadata": {},
   "outputs": [
    {
     "data": {
      "text/plain": [
       "<AxesSubplot:title={'center':'Country distribution'}>"
      ]
     },
     "execution_count": 15,
     "metadata": {},
     "output_type": "execute_result"
    },
    {
     "data": {
      "image/png": "[encoded data removed]",
      "text/plain": [
       "<Figure size 1000x500 with 1 Axes>"
      ]
     },
     "metadata": {},
     "output_type": "display_data"
    }
   ],
   "source": [
    "data['Country'].value_counts().plot(kind='bar', figsize=(10,5), title='Country distribution')"
   ]
  },
  {
   "cell_type": "code",
   "execution_count": 16,
   "metadata": {},
   "outputs": [
    {
     "data": {
      "image/png": "[encoded data removed]",
      "text/plain": [
       "<Figure size 1500x400 with 1 Axes>"
      ]
     },
     "metadata": {},
     "output_type": "display_data"
    }
   ],
   "source": [
    "# plot mean of price per country\n",
    "groupCountry = data.groupby(\"Country\").mean()[\"Price\"]\n",
    "plt.figure(figsize=(15, 4))\n",
    "plt.plot(groupCountry, marker='o', linestyle='')\n",
    "plt.xticks(rotation=45)\n",
    "plt.xlabel('Country')\n",
    "plt.ylabel('Average Price')\n",
    "plt.title('Average Price per Country')\n",
    "plt.show()\n",
    "\n",
    "\n"
   ]
  },
  {
   "cell_type": "code",
   "execution_count": 17,
   "metadata": {},
   "outputs": [
    {
     "data": {
      "text/plain": [
       "ID                                                             810552\n",
       "Listing Url                       https://www.airbnb.com/rooms/810552\n",
       "Scrape ID                                              20170401232214\n",
       "Last Scraped                                               2017-04-02\n",
       "Name                               The Best Located Studio On Mission\n",
       "                                                 ...                 \n",
       "Cancellation Policy                                               NaN\n",
       "Calculated host listings count                                    NaN\n",
       "Reviews per Month                                                 NaN\n",
       "Geolocation                                                       NaN\n",
       "Features                                                          NaN\n",
       "Name: 40783, Length: 89, dtype: object"
      ]
     },
     "metadata": {},
     "output_type": "display_data"
    },
    {
     "name": "stdout",
     "output_type": "stream",
     "text": [
      "nan\n",
      "nan\n"
     ]
    }
   ],
   "source": [
    "display(data.iloc[40783])\n",
    "print(data.at[40783, 'Price'])\n",
    "print(data.at[40783, 'Price'])\n"
   ]
  },
  {
   "cell_type": "code",
   "execution_count": 18,
   "metadata": {},
   "outputs": [
    {
     "data": {
      "text/html": [
       "<div>\n",
       "<style scoped>\n",
       "    .dataframe tbody tr th:only-of-type {\n",
       "        vertical-align: middle;\n",
       "    }\n",
       "\n",
       "    .dataframe tbody tr th {\n",
       "        vertical-align: top;\n",
       "    }\n",
       "\n",
       "    .dataframe thead th {\n",
       "        text-align: right;\n",
       "    }\n",
       "</style>\n",
       "<table border=\"1\" class=\"dataframe\">\n",
       "  <thead>\n",
       "    <tr style=\"text-align: right;\">\n",
       "      <th></th>\n",
       "      <th>ID</th>\n",
       "      <th>Listing Url</th>\n",
       "      <th>Scrape ID</th>\n",
       "      <th>Last Scraped</th>\n",
       "      <th>Name</th>\n",
       "      <th>Summary</th>\n",
       "      <th>Space</th>\n",
       "      <th>Description</th>\n",
       "      <th>Experiences Offered</th>\n",
       "      <th>Neighborhood Overview</th>\n",
       "      <th>...</th>\n",
       "      <th>Review Scores Communication</th>\n",
       "      <th>Review Scores Location</th>\n",
       "      <th>Review Scores Value</th>\n",
       "      <th>License</th>\n",
       "      <th>Jurisdiction Names</th>\n",
       "      <th>Cancellation Policy</th>\n",
       "      <th>Calculated host listings count</th>\n",
       "      <th>Reviews per Month</th>\n",
       "      <th>Geolocation</th>\n",
       "      <th>Features</th>\n",
       "    </tr>\n",
       "  </thead>\n",
       "  <tbody>\n",
       "    <tr>\n",
       "      <th>0</th>\n",
       "      <td>4008728</td>\n",
       "      <td>https://www.airbnb.com/rooms/4008728</td>\n",
       "      <td>20170402075052</td>\n",
       "      <td>2017-04-02</td>\n",
       "      <td>Luxurious 3 bedroom, centrum, 180m2</td>\n",
       "      <td>‪This luxurious apartment is situated in the c...</td>\n",
       "      <td>In the heart of hip &amp; lively Amsterdam Centrum...</td>\n",
       "      <td>‪This luxurious apartment is situated in the c...</td>\n",
       "      <td>none</td>\n",
       "      <td>There is a wide variety of cafes and restauran...</td>\n",
       "      <td>...</td>\n",
       "      <td>10.0</td>\n",
       "      <td>10.0</td>\n",
       "      <td>9.0</td>\n",
       "      <td>NaN</td>\n",
       "      <td>Amsterdam</td>\n",
       "      <td>strict</td>\n",
       "      <td>1.0</td>\n",
       "      <td>1.52</td>\n",
       "      <td>52.36523660409065, 4.878249575101092</td>\n",
       "      <td>Host Has Profile Pic,Host Identity Verified,Is...</td>\n",
       "    </tr>\n",
       "    <tr>\n",
       "      <th>1</th>\n",
       "      <td>7778612</td>\n",
       "      <td>https://www.airbnb.com/rooms/7778612</td>\n",
       "      <td>20170402075052</td>\n",
       "      <td>2017-04-02</td>\n",
       "      <td>Luxury apartment in city centre</td>\n",
       "      <td>Beautiful, large (105m2, 2 floors) and quiet a...</td>\n",
       "      <td>1 living room 1 dining room 2 bedrooms 1 bathr...</td>\n",
       "      <td>Beautiful, large (105m2, 2 floors) and quiet a...</td>\n",
       "      <td>none</td>\n",
       "      <td>Within a few minutes walking you'll be in the ...</td>\n",
       "      <td>...</td>\n",
       "      <td>10.0</td>\n",
       "      <td>10.0</td>\n",
       "      <td>9.0</td>\n",
       "      <td>NaN</td>\n",
       "      <td>Amsterdam</td>\n",
       "      <td>strict</td>\n",
       "      <td>1.0</td>\n",
       "      <td>0.81</td>\n",
       "      <td>52.367309030897516, 4.8738407410699915</td>\n",
       "      <td>Host Is Superhost,Host Has Profile Pic,Host Id...</td>\n",
       "    </tr>\n",
       "  </tbody>\n",
       "</table>\n",
       "<p>2 rows × 89 columns</p>\n",
       "</div>"
      ],
      "text/plain": [
       "        ID                           Listing Url       Scrape ID Last Scraped  \\\n",
       "0  4008728  https://www.airbnb.com/rooms/4008728  20170402075052   2017-04-02   \n",
       "1  7778612  https://www.airbnb.com/rooms/7778612  20170402075052   2017-04-02   \n",
       "\n",
       "                                  Name  \\\n",
       "0  Luxurious 3 bedroom, centrum, 180m2   \n",
       "1      Luxury apartment in city centre   \n",
       "\n",
       "                                             Summary  \\\n",
       "0  ‪This luxurious apartment is situated in the c...   \n",
       "1  Beautiful, large (105m2, 2 floors) and quiet a...   \n",
       "\n",
       "                                               Space  \\\n",
       "0  In the heart of hip & lively Amsterdam Centrum...   \n",
       "1  1 living room 1 dining room 2 bedrooms 1 bathr...   \n",
       "\n",
       "                                         Description Experiences Offered  \\\n",
       "0  ‪This luxurious apartment is situated in the c...                none   \n",
       "1  Beautiful, large (105m2, 2 floors) and quiet a...                none   \n",
       "\n",
       "                               Neighborhood Overview  ...  \\\n",
       "0  There is a wide variety of cafes and restauran...  ...   \n",
       "1  Within a few minutes walking you'll be in the ...  ...   \n",
       "\n",
       "  Review Scores Communication Review Scores Location Review Scores Value  \\\n",
       "0                        10.0                   10.0                 9.0   \n",
       "1                        10.0                   10.0                 9.0   \n",
       "\n",
       "  License Jurisdiction Names Cancellation Policy  \\\n",
       "0     NaN          Amsterdam              strict   \n",
       "1     NaN          Amsterdam              strict   \n",
       "\n",
       "  Calculated host listings count Reviews per Month  \\\n",
       "0                            1.0              1.52   \n",
       "1                            1.0              0.81   \n",
       "\n",
       "                              Geolocation  \\\n",
       "0    52.36523660409065, 4.878249575101092   \n",
       "1  52.367309030897516, 4.8738407410699915   \n",
       "\n",
       "                                            Features  \n",
       "0  Host Has Profile Pic,Host Identity Verified,Is...  \n",
       "1  Host Is Superhost,Host Has Profile Pic,Host Id...  \n",
       "\n",
       "[2 rows x 89 columns]"
      ]
     },
     "metadata": {},
     "output_type": "display_data"
    }
   ],
   "source": [
    "display(data.head(2))"
   ]
  },
  {
   "cell_type": "code",
   "execution_count": 19,
   "metadata": {},
   "outputs": [
    {
     "name": "stdout",
     "output_type": "stream",
     "text": [
      "2017-05-03    46064\n",
      "2017-05-09    45182\n",
      "2017-04-05    37640\n",
      "2017-03-05    32159\n",
      "2017-04-08    30990\n",
      "2017-05-08    25906\n",
      "2017-04-02    23864\n",
      "2017-03-04    21745\n",
      "2017-04-03    21220\n",
      "2017-06-15    20545\n",
      "2017-04-04    18851\n",
      "2017-05-04    17660\n",
      "2017-04-06    17186\n",
      "2017-03-15    14858\n",
      "2017-06-03    12714\n",
      "2016-05-04    12337\n",
      "2017-03-07     9663\n",
      "2017-04-07     9091\n",
      "2017-05-10     6988\n",
      "2017-02-18     6729\n",
      "2016-07-07     6608\n",
      "2016-08-07     6474\n",
      "2016-07-09     6272\n",
      "2017-05-11     6009\n",
      "2017-06-02     5307\n",
      "2017-05-05     4934\n",
      "2016-01-04     3818\n",
      "2016-09-07     3585\n",
      "2017-05-02     3348\n",
      "2016-09-06     3277\n",
      "2016-08-08     2408\n",
      "2016-04-02     1961\n",
      "2017-05-06     1913\n",
      "2015-10-12     1847\n",
      "2017-05-12     1227\n",
      "2016-05-21      739\n",
      "2016-04-11      576\n",
      "2016-05-19      511\n",
      "2016-05-18      480\n",
      "2016-05-20      413\n",
      "2016-04-03      389\n",
      "2016-05-17      362\n",
      "2015-10-18      347\n",
      "2015-10-17      310\n",
      "2016-04-12      289\n",
      "2015-10-16      132\n",
      "2015-10-19       25\n",
      "Name: Last Scraped, dtype: int64\n"
     ]
    }
   ],
   "source": [
    "# check date of dataset\n",
    "date = list(data['Last Scraped'])\n",
    "print(data['Last Scraped'].value_counts())\n"
   ]
  },
  {
   "cell_type": "code",
   "execution_count": 20,
   "metadata": {},
   "outputs": [
    {
     "name": "stdout",
     "output_type": "stream",
     "text": [
      "Paris                            54513\n",
      "London                           47423\n",
      "Berlin                           20454\n",
      "New York                         19528\n",
      "Los Angeles                      19426\n",
      "                                 ...  \n",
      "Italia/ Roma/Lazio                   1\n",
      "Bernal Heights, San Francisco        1\n",
      "Roslyn Gardens                       1\n",
      "Paddington/Woollahra                 1\n",
      "villa verde bajo                     1\n",
      "Name: City, Length: 5531, dtype: int64\n",
      "number of different cities: 5532\n"
     ]
    }
   ],
   "source": [
    "print(data['City'].value_counts())\n",
    "print(f\"number of different cities: {len(data['City'].unique())}\")\n"
   ]
  },
  {
   "cell_type": "code",
   "execution_count": 21,
   "metadata": {},
   "outputs": [
    {
     "data": {
      "text/plain": [
       "Paris, Île-de-France, France                                                                                                                                                  44468\n",
       "New York, New York, United States                                                                                                                                             33837\n",
       "London, England, United Kingdom                                                                                                                                               22734\n",
       "Rome, Lazio, Italy                                                                                                                                                            20366\n",
       "Los Angeles, California, United States                                                                                                                                        18755\n",
       "                                                                                                                                                                              ...  \n",
       "Stanwell Tops, New South Wales, Australia                                                                                                                                         1\n",
       "Oesterreich                                                                                                                                                                       1\n",
       "Borgo Valsugana, Trentino-Alto Adige/South Tyrol, Italy                                                                                                                           1\n",
       "Triuggio, Lombardy, Italy                                                                                                                                                         1\n",
       "this house is close to Malibu beach and with the private pool and beautiful city view. you live her like your own home. the room is very clear and quiet. enjoy your trip.        1\n",
       "Name: Host Location, Length: 12144, dtype: int64"
      ]
     },
     "execution_count": 21,
     "metadata": {},
     "output_type": "execute_result"
    }
   ],
   "source": [
    "data['Host Location'].value_counts()\n"
   ]
  },
  {
   "cell_type": "code",
   "execution_count": 22,
   "metadata": {},
   "outputs": [
    {
     "name": "stdout",
     "output_type": "stream",
     "text": [
      "494892    Topanga\n",
      "Name: City, dtype: object\n",
      "494892    United States\n",
      "Name: Country, dtype: object\n",
      "494892    this house is close to Malibu beach and with t...\n",
      "Name: Host Location, dtype: object\n",
      "494892    100.0\n",
      "Name: Price, dtype: float64\n"
     ]
    }
   ],
   "source": [
    "curiusHostLocation = data[data['Host Location'] == 'this house is close to Malibu beach and with the private pool and beautiful city view. you live her like your own home. the room is very clear and quiet. enjoy your trip.']\n",
    "\n",
    "\n",
    "print(curiusHostLocation['City'])\n",
    "print(curiusHostLocation['Country'])\n",
    "print(curiusHostLocation['Host Location'])\n",
    "print(curiusHostLocation['Price'])\n"
   ]
  },
  {
   "cell_type": "code",
   "execution_count": 23,
   "metadata": {},
   "outputs": [
    {
     "name": "stdout",
     "output_type": "stream",
     "text": [
      "3\n",
      "Entire home/apt    313707\n",
      "Private room       172306\n",
      "Shared room          8939\n",
      "Name: Room Type, dtype: int64\n"
     ]
    }
   ],
   "source": [
    "print(len(data['Room Type'].value_counts()))\n",
    "print(data['Room Type'].value_counts())"
   ]
  },
  {
   "cell_type": "code",
   "execution_count": 24,
   "metadata": {},
   "outputs": [
    {
     "name": "stdout",
     "output_type": "stream",
     "text": [
      "44\n",
      "Apartment                 351404\n",
      "House                      93887\n",
      "Bed & Breakfast            12080\n",
      "Condominium                10237\n",
      "Loft                        5933\n",
      "Townhouse                   5930\n",
      "Other                       3235\n",
      "Villa                       3202\n",
      "Guesthouse                  1639\n",
      "Bungalow                    1216\n",
      "Dorm                        1204\n",
      "Boat                         967\n",
      "Cabin                        788\n",
      "Chalet                       641\n",
      "Boutique hotel               514\n",
      "Serviced apartment           416\n",
      "Hostel                       395\n",
      "Camper/RV                    381\n",
      "Timeshare                    178\n",
      "Guest suite                  142\n",
      "Tent                          99\n",
      "Vacation home                 73\n",
      "Castle                        64\n",
      "Treehouse                     64\n",
      "In-law                        44\n",
      "Earth House                   37\n",
      "Yurt                          29\n",
      "Hut                           29\n",
      "Entire Floor                  18\n",
      "Tipi                          16\n",
      "Nature lodge                  13\n",
      "Cave                          12\n",
      "Lighthouse                    12\n",
      "Train                          9\n",
      "Casa particular                9\n",
      "Island                         7\n",
      "Igloo                          6\n",
      "Parking Space                  4\n",
      "Pension (Korea)                2\n",
      "Ryokan (Japan)                 2\n",
      "Van                            1\n",
      "Plane                          1\n",
      "Car                            1\n",
      "Heritage hotel (India)         1\n",
      "Name: Property Type, dtype: int64\n"
     ]
    }
   ],
   "source": [
    "print(len(data['Property Type'].value_counts()))\n",
    "print(data['Property Type'].value_counts())"
   ]
  },
  {
   "cell_type": "code",
   "execution_count": null,
   "metadata": {},
   "outputs": [],
   "source": [
    "dataOfInterest = selData = data[['Price', 'Minimum Nights', 'Bathrooms', 'Bedrooms','Country', 'Latitude', 'Longitude', 'Review Scores Rating', 'Number of Reviews', 'Transit', 'Host Location', 'Property Type', 'Room Type', 'Square Feet', 'Guests Included']]\n"
   ]
  },
  {
   "cell_type": "code",
   "execution_count": 25,
   "metadata": {},
   "outputs": [
    {
     "name": "stdout",
     "output_type": "stream",
     "text": [
      "99\n",
      "['mq', 'vg', 'tn', '加州', 'bc', 'hr', 'la', 'al', 'ap', 'jm', 'lt', 'dz', 'vn', 'cm', 'eg', 're', 'am', 'bg', 'hu', 'is', 'a1', 'bh', 'ec', 'a2', 'gt', 'bl', 'tx', 'qa', 'bj', 'ru', 'rw', 'im', 'rd', 'vc', 'sk', '香港', 'mg', '伦敦', 'vi', 'md', 'th', 'ro', 've', 'dj', 'id', 'bt', 'rm', 'xk', 'il', 'as', 'mc', '中国', 'pr', 'lv', 'cz', 'ua', 'cy', 'ng', 'cw', 'mt', 'dm', 'sp', 'ge', 'tt', 'sa', 'lb', 'cr', 'lk', 'in', 'uk', 'ht', 'zm', 'ph', 'by', 'ae', 'ee', 'my', 'uy', 'hn', 'aw', 'pa', 'tr', 'dc', 'je', 'pl', 'ke', 'gh', 'pf', 'do', 'wa', 'rs', 'nj', 'eu', 'ma', 'bd', 'gp', 'si', 'nc', 'jo']\n"
     ]
    }
   ],
   "source": [
    "countryCodeDict = {\"cx\":\"christmas island\", \"nl\":\"netherlands\", \"us\": \"united states\", \"es\": \"spain\", \"fr\": \"france\", \"it\": \"italy\", \n",
    "                   \"gb\": \"united kingdom\", \"de\": \"germany\", \"au\": \"australia\", \"ca\": \"canada\", \"pt\": \"portugal\", \n",
    "                   \"gr\": \"greece\", \"be\": \"belgium\", \"at\": \"austria\", \"ch\": \"switzerland\", \"dk\": \"denmark\", \"se\": \"sweden\", \n",
    "                   \"no\": \"norway\", \"fi\": \"finland\", \"ie\": \"ireland\", \"nz\": \"new zealand\", \"lu\": \"luxembourg\", \"sg\": \"singapore\", \n",
    "                   \"hk\": \"hong kong\", \"jp\": \"japan\", \"kr\": \"south korea\", \"tw\": \"taiwan\", \"cn\": \"china\", \"br\": \"brazil\", \"mx\": \"mexico\", \n",
    "                   \"ar\": \"argentina\", \"cl\": \"chile\", \"co\": \"colombia\", \"pe\": \"peru\", \"za\": \"south africa\"}\n",
    "\n",
    "# get all Host Locations with only 2 letters as a list\n",
    "dataOfInterest['Host Location'] = dataOfInterest['Host Location'].str.lower()\n",
    "usedCountryCodes = list(dataOfInterest[dataOfInterest['Host Location'].str.len() == 2]['Host Location'])\n",
    "usedCountryCodes = list(set(usedCountryCodes))\n",
    "\n",
    "# get all usedCountryCodes that are not in countryCodeDict\n",
    "notInDict = [code for code in usedCountryCodes if code not in countryCodeDict.keys()]\n",
    "print(len(notInDict))\n",
    "print(notInDict)\n",
    "\n",
    "\n"
   ]
  },
  {
   "cell_type": "code",
   "execution_count": 26,
   "metadata": {},
   "outputs": [
    {
     "name": "stdout",
     "output_type": "stream",
     "text": [
      "133\n"
     ]
    }
   ],
   "source": [
    "# missing country codes\n",
    "restCountryCodes = { 'ua': 'ukraine', 'sk': 'slovakia', 'wa': 'western sahara', 'dj': 'djibouti', 'by': 'belarus', \n",
    "                    'is': 'iceland', 'zm': 'zambia', 'mq': 'martinique', 'bl': 'saint barthélemy', 'la': 'laos', \n",
    "                    'ec': 'ecuador', 'jo': 'jordan', 'nc': 'new caledonia', 'mt': 'malta', 'eg': 'egypt', \n",
    "                    'ro': 'romania', 'rw': 'rwanda', 'de': 'germany', 'ke': 'kenya', '伦敦': 'united kingdom', \n",
    "                    'mg': 'madagascar', 'ae': 'united arab emirates', '加州': \"united states\", 'hn': 'honduras', \n",
    "                    'cz': 'czech republic', 'md': 'moldova', 'nl': 'netherlands', 'do': 'dominican republic', \n",
    "                    'si': 'slovenia', 'ma': 'morocco', 'dk': 'denmark', 'cm': 'cameroon', 'xk': 'kosovo', \n",
    "                    'bg': 'bulgaria', 'pr': 'puerto rico', 've': 'venezuela', 'sp': 'spain', 'th': 'thailand', \n",
    "                    'cr': 'costa rica', 'uk': 'united kingdom', 'lb': 'lebanon', 'ru': 'russia', 'vn': 'vietnam', \n",
    "                    'pa': 'panama', 'rd': 'dominican republic', 'fr': 'france', 'rs': 'serbia', 'bt': 'bhutan', \n",
    "                    'ge': 'georgia', 'al': 'albania', 'in': 'india', 'lt': 'lithuania', 'ee': 'estonia', \n",
    "                    'tt': 'trinidad and tobago', 'ng': 'nigeria', 'eu': 'european union', 'am': 'armenia', \n",
    "                    'it': 'italy', 'gh': 'ghana', 'hu': 'hungary', 'cw': 'curaçao', 'gr': 'greece', 'dm': 'dominica', \n",
    "                    'tn': 'tunisia', 'uk': 'united kingdom', 'id': 'indonesia', 'tr': 'turkey', \n",
    "                    'vc': 'saint vincent and the grenadines', 'ph': 'philippines', 'bd': 'bangladesh', 'rm': 'rome', \n",
    "                    'ht': 'haiti', 'qa': 'qatar', 'pl': 'poland', 'bc': 'british columbia', '中国': 'china', \n",
    "                    'it': 'italy', 'gt': 'guatemala', 'dz': 'algeria', 'cy': 'cyprus', 'vg': 'united kingdom', \n",
    "                    'gp': 'guadeloupe', 'bj': 'benin', 'pf': 'french polynesia', 'la': 'laos', 'uy': 'uruguay', \n",
    "                    'je': 'jersey', 'sa': 'saudi arabia', 'hr': 'croatia', 'il': 'israel', 'im': 'isle of man', \n",
    "                    're': 'réunion', 'lk': 'sri lanka', 'lv': 'latvia', 'mc': 'monaco', 'bh': 'bahrain', 'jm': 'jamaica', \n",
    "                    'es': 'spain', 'aw': 'aruba', 'my': 'malaysia', 'uk': 'united kingdom', \n",
    "                    'vi': \"united states\", 'dc': \"united states\", 'tx': \"united states\", 'nj': \"united states\", 'ny': \"united states\",'as': \"united states\", \n",
    "                    'eu': 'european union', '香港': 'hong kong', 'ap': 'asia/pacific region'}\n",
    "\n",
    "\n",
    "# join countryCodes and restCountryCodes\n",
    "countryCodeDict.update(restCountryCodes)\n",
    "print(len(countryCodeDict))\n",
    "\n",
    "otherCountrys = {\"sydney\": \"australia\", \"scotland\": 'united kingdom', \"england\": 'united kingdom', \"london\": 'united kingdom', \n",
    "                \"u.k.\": \"united kingdom\", \"u.s.\": \"united states\", \"uk\":'united kingdom', \"us\": \"united states\", \"canadá\": \"canada\", \n",
    "                \"mallorca\": \"spain\", \"españa\": \"spain\", \"roma\": \"italy\", \"italia\": \"italy\", \"paris\": \"france\", \"ny\": \"united states\",\n",
    "                \"new york\": \"united states\"}\n",
    "restCountrys = [\"brasil\", \"uzbekistan\", \"cuba\", \"fiji\", \"ethiopia\", \"south korea\", \"grece\", \"iraq\", \"yemen\", \"bahamas\", \"israel\", \"vanuatu\", \"vatican city\", \"luxemburg\", \"libya\", \"senegal\", \"istanbul\"]"
   ]
  },
  {
   "cell_type": "code",
   "execution_count": 27,
   "metadata": {},
   "outputs": [
    {
     "name": "stdout",
     "output_type": "stream",
     "text": [
      "united states                            203193\n",
      "united kingdom                            59720\n",
      "france                                    55449\n",
      "spain                                     42867\n",
      "italy                                     32637\n",
      "                                          ...  \n",
      "camano island                                 1\n",
      "maroubra beach                                1\n",
      "bronte beach                                  1\n",
      "everywhere at once                            1\n",
      "tin hau near to victoria park & metro         1\n",
      "Name: Host Location, Length: 1090, dtype: int64\n"
     ]
    }
   ],
   "source": [
    "# clean host location\n",
    "dfHostLocation = dataOfInterest['Host Location']\n",
    "\n",
    "# replace host location with country code if it is in the dictionary\n",
    "for key in countryCodeDict.keys():\n",
    "    dfHostLocation = dfHostLocation.replace(key, countryCodeDict[key])\n",
    "\n",
    "# when one of the Values of the countryCodeDict is part of the Host Location, replace it with that value\n",
    "for value in list(countryCodeDict.values()) + restCountrys:\n",
    "    dfHostLocation = dfHostLocation.replace({f'.*{value}.*': value}, regex=True)\n",
    "\n",
    "# replace other parts\n",
    "for key in otherCountrys.keys():\n",
    "    dfHostLocation = dfHostLocation.replace({f'.*{key}.*': otherCountrys[key]}, regex=True)\n",
    "\n",
    "# replace Host location with 2 \",\" with the part after the last \",\"\n",
    "dfHostLocation = dfHostLocation.apply(lambda x: str(x).split(',')[-1] if str(x).count(',') == 2 else x)\n",
    "\n",
    "print(dfHostLocation.value_counts())\n",
    "\n"
   ]
  },
  {
   "cell_type": "code",
   "execution_count": 28,
   "metadata": {},
   "outputs": [
    {
     "name": "stdout",
     "output_type": "stream",
     "text": [
      "56\n",
      "québec                                                                  155\n",
      "danmark                                                                 153\n",
      "hongkong                                                                 91\n",
      "vacation rentals                                                         80\n",
      "california                                                               76\n",
      "londres                                                                  75\n",
      "europe                                                                   59\n",
      "texas                                                                    55\n",
      "quebec                                                                   43\n",
      "香港中环堅尼地dao                                                               36\n",
      "wales                                                                    31\n",
      "venice beach, ca                                                         24\n",
      "dublin                                                                   22\n",
      "londra                                                                   19\n",
      "buenos aires                                                             19\n",
      "gold coast, queensland                                                   19\n",
      "tel aviv                                                                 18\n",
      "espana                                                                   17\n",
      "calviá                                                                   17\n",
      "toronto, ontario                                                         16\n",
      "中國香港                                                                     14\n",
      "seoul, korea                                                             13\n",
      "san francisco, california                                                13\n",
      "brooklyn                                                                 12\n",
      "your current city                                                        11\n",
      "venice beach, california                                                 10\n",
      "macau                                                                    10\n",
      "shoreditch                                                               10\n",
      "melbourne                                                                 9\n",
      "baku, azerbaijan                                                          9\n",
      "nederland                                                                 9\n",
      "香港九龍旺角花園街                                                                 8\n",
      "venice beach ca                                                           8\n",
      "stockholm                                                                 8\n",
      "mongkok  station                                                          8\n",
      "rungsted kyst                                                             8\n",
      " ca                                                                       7\n",
      "capo verde                                                                7\n",
      "southern california                                                       7\n",
      "bronx                                                                     7\n",
      "los angeles county                                                        7\n",
      "belgrade                                                                  7\n",
      "30 melford avenue, barking ig11 9ht                                       7\n",
      " bolivia                                                                  7\n",
      "great britain                                                             6\n",
      "trentino                                                                  6\n",
      " bermuda                                                                  6\n",
      "ucla-getty area                                                           6\n",
      "colorado                                                                  6\n",
      "bodrum                                                                    6\n",
      "veneto                                                                    6\n",
      "taipei                                                                    6\n",
      " reunion                                                                  6\n",
      " cambodia                                                                 6\n",
      "campos                                                                    6\n",
      "vivimos también en artá, podemos recomendarle lugares y restaurantes      6\n",
      "Name: Host Location, dtype: int64\n"
     ]
    }
   ],
   "source": [
    "# get every Host Location which is not in the countryCodeDict values\n",
    "foundCountrys = list(set(list(countryCodeDict.values()) + list(otherCountrys.values()) + restCountrys))\n",
    "\n",
    "# get every Host Location which is not in found countrys and more then 1 time in dfHostLocation\n",
    "otherHostLocation = dfHostLocation[~dfHostLocation.isin(foundCountrys)]\n",
    "otherHostLocation = otherHostLocation[otherHostLocation.map(dfHostLocation.value_counts()) > 5]\n",
    "print(len(otherHostLocation.value_counts()))\n",
    "print(otherHostLocation.value_counts())\n"
   ]
  },
  {
   "cell_type": "code",
   "execution_count": 29,
   "metadata": {},
   "outputs": [
    {
     "name": "stdout",
     "output_type": "stream",
     "text": [
      "25\n"
     ]
    },
    {
     "data": {
      "text/plain": [
       "québec                       155\n",
       "danmark                      153\n",
       "hongkong                      91\n",
       "vacation rentals              80\n",
       "california                    76\n",
       "londres                       75\n",
       "europe                        59\n",
       "texas                         55\n",
       "quebec                        43\n",
       "香港中环堅尼地dao                    36\n",
       "wales                         31\n",
       "venice beach, ca              24\n",
       "dublin                        22\n",
       "buenos aires                  19\n",
       "londra                        19\n",
       "gold coast, queensland        19\n",
       "tel aviv                      18\n",
       "espana                        17\n",
       "calviá                        17\n",
       "toronto, ontario              16\n",
       "中國香港                          14\n",
       "seoul, korea                  13\n",
       "san francisco, california     13\n",
       "brooklyn                      12\n",
       "your current city             11\n",
       "Name: Host Location, dtype: int64"
      ]
     },
     "execution_count": 29,
     "metadata": {},
     "output_type": "execute_result"
    }
   ],
   "source": [
    "counts = dfHostLocation[~dfHostLocation.isin(foundCountrys)].value_counts()\n",
    "counts = counts[counts > 10]\n",
    "print(len(counts))\n",
    "counts"
   ]
  },
  {
   "cell_type": "code",
   "execution_count": 30,
   "metadata": {},
   "outputs": [],
   "source": [
    "# replace leftover\n",
    "lastCountrys = {\"copenhagen\": \"denmark\", \"berlin\": \"germany\", \"mexico city\": \"mexico\",\n",
    "                \"québec\": \"canada\",\"quebec\": \"canada\", \"danmark\": \"denmark\", \"nederland\": \"netherlands\", \"nederlanden\": \"netherlands\",\n",
    "                \"hongkong\": \"hong kong\", \"california\": \"united states\", \"texas\": \"united states\", \"florida\": \"united states\",\n",
    "                \"香港中环堅尼地dao\": \"hong kong\", \"wales\": \"united kingdom\", \"venice beach\": \"united states\", \"venice\": \"italy\",\n",
    "                \"dublin\": \"irland\", \"buenos aires\": \"argentina\", \"barcelona\": \"spain\", \"madrid\": \"spain\", \"lisbon\": \"portugal\", \n",
    "                \"londra\": \"united kingdom\", \"queensland\": \"australia\", \"victoria\": \"australia\", \"melbourne\": \"australia\",\n",
    "                \"tel aviv\": \"israel\", \"espana\": \"spain\", \"korea\": \"south korea\", \"calviá\": \"spain\", \"ontario\": \"canada\", \n",
    "                \"中國香港\": \"hong kong\", \"brooklyn\": \"united states\", \"macau\": \"china\", \"shoreditch\": 'united kingdom'}\n",
    "\n",
    "for key in lastCountrys.keys():\n",
    "    dfHostLocation = dfHostLocation.replace({f'.*{key}.*': lastCountrys[key]}, regex=True)\n"
   ]
  },
  {
   "cell_type": "code",
   "execution_count": null,
   "metadata": {},
   "outputs": [],
   "source": [
    "# drop rows with more than 70% nan values\n",
    "columnNum = dataOfInterest.shape[1]\n",
    "print(dataOfInterest.shape[0])\n",
    "dataOfInterest = dataOfInterest.dropna(thresh=int(columnNum*0.7))\n",
    "print(dataOfInterest.shape[0])"
   ]
  },
  {
   "cell_type": "code",
   "execution_count": 31,
   "metadata": {},
   "outputs": [
    {
     "name": "stdout",
     "output_type": "stream",
     "text": [
      "Price nans: 7958\n",
      "Latitude nans: 1\n",
      "Longitude nans: 1\n",
      "Review Scores Rating nans: 127819\n",
      "Number of Reviews nans: 1\n",
      "Square Feet nans: 482745\n",
      "Guests Included nans: 1\n",
      "Host Location nans: 2263\n",
      "Property Type nans: 11\n",
      "Room Type nans: 1\n",
      "Country nans: 3\n"
     ]
    }
   ],
   "source": [
    "#get number of nan values in each column\n",
    "print(f\"Price nans: {dataOfInterest['Price'].isna().sum()}\")\n",
    "print(f\"Latitude nans: {dataOfInterest['Latitude'].isna().sum()}\")\n",
    "print(f\"Longitude nans: {dataOfInterest['Longitude'].isna().sum()}\")\n",
    "print(f\"Review Scores Rating nans: {dataOfInterest['Review Scores Rating'].isna().sum()}\")\n",
    "print(f\"Number of Reviews nans: {dataOfInterest['Number of Reviews'].isna().sum()}\")\n",
    "print(f\"Square Feet nans: {dataOfInterest['Square Feet'].isna().sum()}\")\n",
    "print(f\"Guests Included nans: {dataOfInterest['Guests Included'].isna().sum()}\")\n",
    "print(f\"Host Location nans: {dataOfInterest['Host Location'].isna().sum()}\")\n",
    "print(f\"Property Type nans: {dataOfInterest['Property Type'].isna().sum()}\")\n",
    "print(f\"Room Type nans: {dataOfInterest['Room Type'].isna().sum()}\")\n",
    "print(f\"Country nans: {dataOfInterest['Country'].isna().sum()}\")\n",
    "print(f\"Minimum Nights nans: {dataOfInterest['Minimum Nights'].isna().sum()}\")\n",
    "print(f\"Bathrooms nans: {dataOfInterest['Bathrooms'].isna().sum()}\")\n",
    "print(f\"Bedrooms nans: {dataOfInterest['Bedrooms'].isna().sum()}\")\n"
   ]
  },
  {
   "cell_type": "code",
   "execution_count": 39,
   "metadata": {},
   "outputs": [
    {
     "name": "stdout",
     "output_type": "stream",
     "text": [
      "             ID                           Listing Url       Scrape ID  \\\n",
      "40783    810552   https://www.airbnb.com/rooms/810552  20170401232214   \n",
      "159712  1553260  https://www.airbnb.com/rooms/1553260  20170407214119   \n",
      "311255  1463549  https://www.airbnb.com/rooms/1463549  20151011232639   \n",
      "\n",
      "       Last Scraped                                Name  \\\n",
      "40783    2017-04-02  The Best Located Studio On Mission   \n",
      "159712   2017-04-08      ¡Urgente! Busco Piso en Madrid   \n",
      "311255   2015-10-12           Appartamento NOCE MOSCATA   \n",
      "\n",
      "                                                  Summary  \\\n",
      "40783   *Completely Private Studio*  The Studio is cen...   \n",
      "159712  Hola me llamo Filomena soy Italiana tengo 24 c...   \n",
      "311255  La nostra casa offre appartamenti recentemente...   \n",
      "\n",
      "                                                    Space  \\\n",
      "40783   This naturally-lit and intimate studio is idea...   \n",
      "159712                                                NaN   \n",
      "311255  L'alloggio si trova in mansarda e offre una sp...   \n",
      "\n",
      "                                              Description Experiences Offered  \\\n",
      "40783   *Completely Private Studio*  The Studio is cen...                none   \n",
      "159712  Hola me llamo Filomena soy Italiana tengo 24 c...                none   \n",
      "311255  La nostra casa offre appartamenti recentemente...                none   \n",
      "\n",
      "                                    Neighborhood Overview  ...  \\\n",
      "40783   Located near Mission, Glen Park, Sea Cliff, an...  ...   \n",
      "159712                                                NaN  ...   \n",
      "311255  Antica Dro è situata in centro storico con tut...  ...   \n",
      "\n",
      "       Review Scores Communication Review Scores Location Review Scores Value  \\\n",
      "40783                          NaN                    NaN                 NaN   \n",
      "159712                         NaN                    NaN                 NaN   \n",
      "311255                         NaN                    NaN                 NaN   \n",
      "\n",
      "       License Jurisdiction Names Cancellation Policy  \\\n",
      "40783      NaN                NaN                 NaN   \n",
      "159712     NaN                NaN            flexible   \n",
      "311255     NaN                NaN              strict   \n",
      "\n",
      "       Calculated host listings count Reviews per Month  \\\n",
      "40783                             NaN               NaN   \n",
      "159712                            1.0               NaN   \n",
      "311255                            2.0               NaN   \n",
      "\n",
      "                                  Geolocation  \\\n",
      "40783                                     NaN   \n",
      "159712  40.47671328643674, -3.571889701578535   \n",
      "311255   45.95885533912968, 10.90758244329028   \n",
      "\n",
      "                                      Features  \n",
      "40783                                      NaN  \n",
      "159712  Host Has Profile Pic,Is Location Exact  \n",
      "311255                    Host Has Profile Pic  \n",
      "\n",
      "[3 rows x 89 columns]\n"
     ]
    }
   ],
   "source": []
  },
  {
   "cell_type": "code",
   "execution_count": 32,
   "metadata": {},
   "outputs": [
    {
     "data": {
      "text/html": [
       "<div>\n",
       "<style scoped>\n",
       "    .dataframe tbody tr th:only-of-type {\n",
       "        vertical-align: middle;\n",
       "    }\n",
       "\n",
       "    .dataframe tbody tr th {\n",
       "        vertical-align: top;\n",
       "    }\n",
       "\n",
       "    .dataframe thead th {\n",
       "        text-align: right;\n",
       "    }\n",
       "</style>\n",
       "<table border=\"1\" class=\"dataframe\">\n",
       "  <thead>\n",
       "    <tr style=\"text-align: right;\">\n",
       "      <th></th>\n",
       "      <th>Price</th>\n",
       "      <th>Country</th>\n",
       "      <th>Latitude</th>\n",
       "      <th>Longitude</th>\n",
       "      <th>Review Scores Rating</th>\n",
       "      <th>Number of Reviews</th>\n",
       "      <th>Transit</th>\n",
       "      <th>Host Location</th>\n",
       "      <th>Property Type</th>\n",
       "      <th>Room Type</th>\n",
       "      <th>Square Feet</th>\n",
       "      <th>Guests Included</th>\n",
       "    </tr>\n",
       "  </thead>\n",
       "  <tbody>\n",
       "    <tr>\n",
       "      <th>40783</th>\n",
       "      <td>NaN</td>\n",
       "      <td>NaN</td>\n",
       "      <td>NaN</td>\n",
       "      <td>NaN</td>\n",
       "      <td>NaN</td>\n",
       "      <td>NaN</td>\n",
       "      <td>I live one block from 24th Bart Station, from ...</td>\n",
       "      <td>san francisco, california, united states</td>\n",
       "      <td>NaN</td>\n",
       "      <td>NaN</td>\n",
       "      <td>NaN</td>\n",
       "      <td>NaN</td>\n",
       "    </tr>\n",
       "  </tbody>\n",
       "</table>\n",
       "</div>"
      ],
      "text/plain": [
       "       Price Country  Latitude  Longitude  Review Scores Rating  \\\n",
       "40783    NaN     NaN       NaN        NaN                   NaN   \n",
       "\n",
       "       Number of Reviews                                            Transit  \\\n",
       "40783                NaN  I live one block from 24th Bart Station, from ...   \n",
       "\n",
       "                                  Host Location Property Type Room Type  \\\n",
       "40783  san francisco, california, united states           NaN       NaN   \n",
       "\n",
       "       Square Feet  Guests Included  \n",
       "40783          NaN              NaN  "
      ]
     },
     "metadata": {},
     "output_type": "display_data"
    },
    {
     "data": {
      "text/html": [
       "<div>\n",
       "<style scoped>\n",
       "    .dataframe tbody tr th:only-of-type {\n",
       "        vertical-align: middle;\n",
       "    }\n",
       "\n",
       "    .dataframe tbody tr th {\n",
       "        vertical-align: top;\n",
       "    }\n",
       "\n",
       "    .dataframe thead th {\n",
       "        text-align: right;\n",
       "    }\n",
       "</style>\n",
       "<table border=\"1\" class=\"dataframe\">\n",
       "  <thead>\n",
       "    <tr style=\"text-align: right;\">\n",
       "      <th></th>\n",
       "      <th>Price</th>\n",
       "      <th>Country</th>\n",
       "      <th>Latitude</th>\n",
       "      <th>Longitude</th>\n",
       "      <th>Review Scores Rating</th>\n",
       "      <th>Number of Reviews</th>\n",
       "      <th>Transit</th>\n",
       "      <th>Host Location</th>\n",
       "      <th>Property Type</th>\n",
       "      <th>Room Type</th>\n",
       "      <th>Square Feet</th>\n",
       "      <th>Guests Included</th>\n",
       "    </tr>\n",
       "  </thead>\n",
       "  <tbody>\n",
       "    <tr>\n",
       "      <th>12</th>\n",
       "      <td>99.0</td>\n",
       "      <td>Netherlands</td>\n",
       "      <td>52.366877</td>\n",
       "      <td>4.864596</td>\n",
       "      <td>NaN</td>\n",
       "      <td>0.0</td>\n",
       "      <td>Many trams stop at approximately 200 m from ou...</td>\n",
       "      <td>amsterdam, north holland, the netherlands</td>\n",
       "      <td>Bed &amp; Breakfast</td>\n",
       "      <td>Private room</td>\n",
       "      <td>NaN</td>\n",
       "      <td>2.0</td>\n",
       "    </tr>\n",
       "    <tr>\n",
       "      <th>24</th>\n",
       "      <td>110.0</td>\n",
       "      <td>Netherlands</td>\n",
       "      <td>52.358812</td>\n",
       "      <td>4.860318</td>\n",
       "      <td>NaN</td>\n",
       "      <td>0.0</td>\n",
       "      <td>We're right on the #1 tram line coming from Ce...</td>\n",
       "      <td>amsterdam, north holland, netherlands</td>\n",
       "      <td>Apartment</td>\n",
       "      <td>Entire home/apt</td>\n",
       "      <td>NaN</td>\n",
       "      <td>2.0</td>\n",
       "    </tr>\n",
       "    <tr>\n",
       "      <th>26</th>\n",
       "      <td>150.0</td>\n",
       "      <td>Netherlands</td>\n",
       "      <td>52.376340</td>\n",
       "      <td>4.845194</td>\n",
       "      <td>NaN</td>\n",
       "      <td>0.0</td>\n",
       "      <td>Only a few metres away there are trams and bus...</td>\n",
       "      <td>amsterdam, north holland, netherlands</td>\n",
       "      <td>Apartment</td>\n",
       "      <td>Entire home/apt</td>\n",
       "      <td>NaN</td>\n",
       "      <td>1.0</td>\n",
       "    </tr>\n",
       "    <tr>\n",
       "      <th>31</th>\n",
       "      <td>92.0</td>\n",
       "      <td>Netherlands</td>\n",
       "      <td>52.377609</td>\n",
       "      <td>4.851447</td>\n",
       "      <td>NaN</td>\n",
       "      <td>0.0</td>\n",
       "      <td>NaN</td>\n",
       "      <td>nl</td>\n",
       "      <td>Apartment</td>\n",
       "      <td>Entire home/apt</td>\n",
       "      <td>NaN</td>\n",
       "      <td>1.0</td>\n",
       "    </tr>\n",
       "    <tr>\n",
       "      <th>34</th>\n",
       "      <td>120.0</td>\n",
       "      <td>Netherlands</td>\n",
       "      <td>52.368115</td>\n",
       "      <td>4.851338</td>\n",
       "      <td>NaN</td>\n",
       "      <td>0.0</td>\n",
       "      <td>NaN</td>\n",
       "      <td>amsterdam, north holland, netherlands</td>\n",
       "      <td>Apartment</td>\n",
       "      <td>Entire home/apt</td>\n",
       "      <td>NaN</td>\n",
       "      <td>1.0</td>\n",
       "    </tr>\n",
       "    <tr>\n",
       "      <th>...</th>\n",
       "      <td>...</td>\n",
       "      <td>...</td>\n",
       "      <td>...</td>\n",
       "      <td>...</td>\n",
       "      <td>...</td>\n",
       "      <td>...</td>\n",
       "      <td>...</td>\n",
       "      <td>...</td>\n",
       "      <td>...</td>\n",
       "      <td>...</td>\n",
       "      <td>...</td>\n",
       "      <td>...</td>\n",
       "    </tr>\n",
       "    <tr>\n",
       "      <th>494939</th>\n",
       "      <td>190.0</td>\n",
       "      <td>Australia</td>\n",
       "      <td>-37.863452</td>\n",
       "      <td>144.813101</td>\n",
       "      <td>NaN</td>\n",
       "      <td>0.0</td>\n",
       "      <td>NaN</td>\n",
       "      <td>melbourne, victoria, australia</td>\n",
       "      <td>Apartment</td>\n",
       "      <td>Private room</td>\n",
       "      <td>NaN</td>\n",
       "      <td>1.0</td>\n",
       "    </tr>\n",
       "    <tr>\n",
       "      <th>494942</th>\n",
       "      <td>123.0</td>\n",
       "      <td>Australia</td>\n",
       "      <td>-37.842232</td>\n",
       "      <td>144.880096</td>\n",
       "      <td>NaN</td>\n",
       "      <td>0.0</td>\n",
       "      <td>Bus and Train nearby. 10 Minutes to beautiful ...</td>\n",
       "      <td>newport, victoria, australia</td>\n",
       "      <td>House</td>\n",
       "      <td>Entire home/apt</td>\n",
       "      <td>NaN</td>\n",
       "      <td>1.0</td>\n",
       "    </tr>\n",
       "    <tr>\n",
       "      <th>494946</th>\n",
       "      <td>66.0</td>\n",
       "      <td>Australia</td>\n",
       "      <td>-37.975849</td>\n",
       "      <td>145.055948</td>\n",
       "      <td>NaN</td>\n",
       "      <td>0.0</td>\n",
       "      <td>There are busses &amp; trains nearby  Off street p...</td>\n",
       "      <td>melbourne, victoria, australia</td>\n",
       "      <td>Apartment</td>\n",
       "      <td>Private room</td>\n",
       "      <td>NaN</td>\n",
       "      <td>1.0</td>\n",
       "    </tr>\n",
       "    <tr>\n",
       "      <th>494952</th>\n",
       "      <td>62.0</td>\n",
       "      <td>Australia</td>\n",
       "      <td>-37.792251</td>\n",
       "      <td>144.894132</td>\n",
       "      <td>NaN</td>\n",
       "      <td>0.0</td>\n",
       "      <td>Tram 82 stops right in front of the studio. It...</td>\n",
       "      <td>cx</td>\n",
       "      <td>Apartment</td>\n",
       "      <td>Entire home/apt</td>\n",
       "      <td>NaN</td>\n",
       "      <td>1.0</td>\n",
       "    </tr>\n",
       "    <tr>\n",
       "      <th>494953</th>\n",
       "      <td>47.0</td>\n",
       "      <td>Australia</td>\n",
       "      <td>-37.811684</td>\n",
       "      <td>144.880698</td>\n",
       "      <td>NaN</td>\n",
       "      <td>0.0</td>\n",
       "      <td>NaN</td>\n",
       "      <td>melbourne, victoria, australia</td>\n",
       "      <td>House</td>\n",
       "      <td>Private room</td>\n",
       "      <td>NaN</td>\n",
       "      <td>1.0</td>\n",
       "    </tr>\n",
       "  </tbody>\n",
       "</table>\n",
       "<p>121769 rows × 12 columns</p>\n",
       "</div>"
      ],
      "text/plain": [
       "        Price      Country   Latitude   Longitude  Review Scores Rating  \\\n",
       "12       99.0  Netherlands  52.366877    4.864596                   NaN   \n",
       "24      110.0  Netherlands  52.358812    4.860318                   NaN   \n",
       "26      150.0  Netherlands  52.376340    4.845194                   NaN   \n",
       "31       92.0  Netherlands  52.377609    4.851447                   NaN   \n",
       "34      120.0  Netherlands  52.368115    4.851338                   NaN   \n",
       "...       ...          ...        ...         ...                   ...   \n",
       "494939  190.0    Australia -37.863452  144.813101                   NaN   \n",
       "494942  123.0    Australia -37.842232  144.880096                   NaN   \n",
       "494946   66.0    Australia -37.975849  145.055948                   NaN   \n",
       "494952   62.0    Australia -37.792251  144.894132                   NaN   \n",
       "494953   47.0    Australia -37.811684  144.880698                   NaN   \n",
       "\n",
       "        Number of Reviews                                            Transit  \\\n",
       "12                    0.0  Many trams stop at approximately 200 m from ou...   \n",
       "24                    0.0  We're right on the #1 tram line coming from Ce...   \n",
       "26                    0.0  Only a few metres away there are trams and bus...   \n",
       "31                    0.0                                                NaN   \n",
       "34                    0.0                                                NaN   \n",
       "...                   ...                                                ...   \n",
       "494939                0.0                                                NaN   \n",
       "494942                0.0  Bus and Train nearby. 10 Minutes to beautiful ...   \n",
       "494946                0.0  There are busses & trains nearby  Off street p...   \n",
       "494952                0.0  Tram 82 stops right in front of the studio. It...   \n",
       "494953                0.0                                                NaN   \n",
       "\n",
       "                                    Host Location    Property Type  \\\n",
       "12      amsterdam, north holland, the netherlands  Bed & Breakfast   \n",
       "24          amsterdam, north holland, netherlands        Apartment   \n",
       "26          amsterdam, north holland, netherlands        Apartment   \n",
       "31                                             nl        Apartment   \n",
       "34          amsterdam, north holland, netherlands        Apartment   \n",
       "...                                           ...              ...   \n",
       "494939             melbourne, victoria, australia        Apartment   \n",
       "494942               newport, victoria, australia            House   \n",
       "494946             melbourne, victoria, australia        Apartment   \n",
       "494952                                         cx        Apartment   \n",
       "494953             melbourne, victoria, australia            House   \n",
       "\n",
       "              Room Type  Square Feet  Guests Included  \n",
       "12         Private room          NaN              2.0  \n",
       "24      Entire home/apt          NaN              2.0  \n",
       "26      Entire home/apt          NaN              1.0  \n",
       "31      Entire home/apt          NaN              1.0  \n",
       "34      Entire home/apt          NaN              1.0  \n",
       "...                 ...          ...              ...  \n",
       "494939     Private room          NaN              1.0  \n",
       "494942  Entire home/apt          NaN              1.0  \n",
       "494946     Private room          NaN              1.0  \n",
       "494952  Entire home/apt          NaN              1.0  \n",
       "494953     Private room          NaN              1.0  \n",
       "\n",
       "[121769 rows x 12 columns]"
      ]
     },
     "metadata": {},
     "output_type": "display_data"
    }
   ],
   "source": [
    "# show row where Latitude is nan\n",
    "display(dataOfInterest[dataOfInterest['Latitude'].isna()])\n",
    "display(dataOfInterest[dataOfInterest['Number of Reviews'] == 0])"
   ]
  },
  {
   "cell_type": "code",
   "execution_count": 37,
   "metadata": {},
   "outputs": [
    {
     "name": "stdout",
     "output_type": "stream",
     "text": [
      "6050\n"
     ]
    },
    {
     "data": {
      "text/html": [
       "<div>\n",
       "<style scoped>\n",
       "    .dataframe tbody tr th:only-of-type {\n",
       "        vertical-align: middle;\n",
       "    }\n",
       "\n",
       "    .dataframe tbody tr th {\n",
       "        vertical-align: top;\n",
       "    }\n",
       "\n",
       "    .dataframe thead th {\n",
       "        text-align: right;\n",
       "    }\n",
       "</style>\n",
       "<table border=\"1\" class=\"dataframe\">\n",
       "  <thead>\n",
       "    <tr style=\"text-align: right;\">\n",
       "      <th></th>\n",
       "      <th>Price</th>\n",
       "      <th>Country</th>\n",
       "      <th>Latitude</th>\n",
       "      <th>Longitude</th>\n",
       "      <th>Review Scores Rating</th>\n",
       "      <th>Number of Reviews</th>\n",
       "      <th>Transit</th>\n",
       "      <th>Host Location</th>\n",
       "      <th>Property Type</th>\n",
       "      <th>Room Type</th>\n",
       "      <th>Square Feet</th>\n",
       "      <th>Guests Included</th>\n",
       "    </tr>\n",
       "  </thead>\n",
       "  <tbody>\n",
       "    <tr>\n",
       "      <th>381</th>\n",
       "      <td>135.0</td>\n",
       "      <td>Netherlands</td>\n",
       "      <td>52.375780</td>\n",
       "      <td>4.898183</td>\n",
       "      <td>NaN</td>\n",
       "      <td>1.0</td>\n",
       "      <td>NaN</td>\n",
       "      <td>almere, flevoland, netherlands</td>\n",
       "      <td>Apartment</td>\n",
       "      <td>Entire home/apt</td>\n",
       "      <td>NaN</td>\n",
       "      <td>1.0</td>\n",
       "    </tr>\n",
       "    <tr>\n",
       "      <th>455</th>\n",
       "      <td>188.0</td>\n",
       "      <td>Netherlands</td>\n",
       "      <td>52.365273</td>\n",
       "      <td>4.901425</td>\n",
       "      <td>NaN</td>\n",
       "      <td>1.0</td>\n",
       "      <td>NaN</td>\n",
       "      <td>fr</td>\n",
       "      <td>Apartment</td>\n",
       "      <td>Entire home/apt</td>\n",
       "      <td>NaN</td>\n",
       "      <td>1.0</td>\n",
       "    </tr>\n",
       "    <tr>\n",
       "      <th>502</th>\n",
       "      <td>35.0</td>\n",
       "      <td>United Kingdom</td>\n",
       "      <td>51.417096</td>\n",
       "      <td>-0.135849</td>\n",
       "      <td>NaN</td>\n",
       "      <td>1.0</td>\n",
       "      <td>My place is close to public transport ( Streat...</td>\n",
       "      <td>london, united kingdom</td>\n",
       "      <td>Apartment</td>\n",
       "      <td>Private room</td>\n",
       "      <td>NaN</td>\n",
       "      <td>1.0</td>\n",
       "    </tr>\n",
       "    <tr>\n",
       "      <th>512</th>\n",
       "      <td>30.0</td>\n",
       "      <td>United Kingdom</td>\n",
       "      <td>51.427308</td>\n",
       "      <td>-0.106572</td>\n",
       "      <td>NaN</td>\n",
       "      <td>1.0</td>\n",
       "      <td>You can park on my driveway or on the street. ...</td>\n",
       "      <td>london, england, united kingdom</td>\n",
       "      <td>House</td>\n",
       "      <td>Private room</td>\n",
       "      <td>NaN</td>\n",
       "      <td>1.0</td>\n",
       "    </tr>\n",
       "    <tr>\n",
       "      <th>550</th>\n",
       "      <td>24.0</td>\n",
       "      <td>United Kingdom</td>\n",
       "      <td>51.643001</td>\n",
       "      <td>-0.132542</td>\n",
       "      <td>NaN</td>\n",
       "      <td>1.0</td>\n",
       "      <td>There is parking available outside our propert...</td>\n",
       "      <td>london, england, united kingdom</td>\n",
       "      <td>House</td>\n",
       "      <td>Private room</td>\n",
       "      <td>NaN</td>\n",
       "      <td>1.0</td>\n",
       "    </tr>\n",
       "    <tr>\n",
       "      <th>...</th>\n",
       "      <td>...</td>\n",
       "      <td>...</td>\n",
       "      <td>...</td>\n",
       "      <td>...</td>\n",
       "      <td>...</td>\n",
       "      <td>...</td>\n",
       "      <td>...</td>\n",
       "      <td>...</td>\n",
       "      <td>...</td>\n",
       "      <td>...</td>\n",
       "      <td>...</td>\n",
       "      <td>...</td>\n",
       "    </tr>\n",
       "    <tr>\n",
       "      <th>494311</th>\n",
       "      <td>115.0</td>\n",
       "      <td>United States</td>\n",
       "      <td>34.100779</td>\n",
       "      <td>-118.351171</td>\n",
       "      <td>NaN</td>\n",
       "      <td>1.0</td>\n",
       "      <td>NaN</td>\n",
       "      <td>los angeles, california, united states</td>\n",
       "      <td>Apartment</td>\n",
       "      <td>Entire home/apt</td>\n",
       "      <td>NaN</td>\n",
       "      <td>1.0</td>\n",
       "    </tr>\n",
       "    <tr>\n",
       "      <th>494322</th>\n",
       "      <td>74.0</td>\n",
       "      <td>United States</td>\n",
       "      <td>34.099381</td>\n",
       "      <td>-118.344123</td>\n",
       "      <td>NaN</td>\n",
       "      <td>28.0</td>\n",
       "      <td>FREE PARKING SPOT INCLUDED Plenty of convenien...</td>\n",
       "      <td>los angeles, california, united states</td>\n",
       "      <td>Condominium</td>\n",
       "      <td>Private room</td>\n",
       "      <td>NaN</td>\n",
       "      <td>3.0</td>\n",
       "    </tr>\n",
       "    <tr>\n",
       "      <th>494553</th>\n",
       "      <td>220.0</td>\n",
       "      <td>Spain</td>\n",
       "      <td>40.426831</td>\n",
       "      <td>-3.697893</td>\n",
       "      <td>NaN</td>\n",
       "      <td>1.0</td>\n",
       "      <td>NaN</td>\n",
       "      <td>ibiza, balearic islands, spain</td>\n",
       "      <td>Apartment</td>\n",
       "      <td>Entire home/apt</td>\n",
       "      <td>NaN</td>\n",
       "      <td>1.0</td>\n",
       "    </tr>\n",
       "    <tr>\n",
       "      <th>494651</th>\n",
       "      <td>159.0</td>\n",
       "      <td>Spain</td>\n",
       "      <td>39.730990</td>\n",
       "      <td>3.428905</td>\n",
       "      <td>NaN</td>\n",
       "      <td>1.0</td>\n",
       "      <td>NaN</td>\n",
       "      <td>balearic islands, spain</td>\n",
       "      <td>House</td>\n",
       "      <td>Entire home/apt</td>\n",
       "      <td>NaN</td>\n",
       "      <td>1.0</td>\n",
       "    </tr>\n",
       "    <tr>\n",
       "      <th>494881</th>\n",
       "      <td>78.0</td>\n",
       "      <td>United States</td>\n",
       "      <td>34.183754</td>\n",
       "      <td>-118.553190</td>\n",
       "      <td>NaN</td>\n",
       "      <td>1.0</td>\n",
       "      <td>NaN</td>\n",
       "      <td>los angeles, california, united states</td>\n",
       "      <td>Guesthouse</td>\n",
       "      <td>Entire home/apt</td>\n",
       "      <td>NaN</td>\n",
       "      <td>3.0</td>\n",
       "    </tr>\n",
       "  </tbody>\n",
       "</table>\n",
       "<p>6050 rows × 12 columns</p>\n",
       "</div>"
      ],
      "text/plain": [
       "        Price         Country   Latitude   Longitude  Review Scores Rating  \\\n",
       "381     135.0     Netherlands  52.375780    4.898183                   NaN   \n",
       "455     188.0     Netherlands  52.365273    4.901425                   NaN   \n",
       "502      35.0  United Kingdom  51.417096   -0.135849                   NaN   \n",
       "512      30.0  United Kingdom  51.427308   -0.106572                   NaN   \n",
       "550      24.0  United Kingdom  51.643001   -0.132542                   NaN   \n",
       "...       ...             ...        ...         ...                   ...   \n",
       "494311  115.0   United States  34.100779 -118.351171                   NaN   \n",
       "494322   74.0   United States  34.099381 -118.344123                   NaN   \n",
       "494553  220.0           Spain  40.426831   -3.697893                   NaN   \n",
       "494651  159.0           Spain  39.730990    3.428905                   NaN   \n",
       "494881   78.0   United States  34.183754 -118.553190                   NaN   \n",
       "\n",
       "        Number of Reviews                                            Transit  \\\n",
       "381                   1.0                                                NaN   \n",
       "455                   1.0                                                NaN   \n",
       "502                   1.0  My place is close to public transport ( Streat...   \n",
       "512                   1.0  You can park on my driveway or on the street. ...   \n",
       "550                   1.0  There is parking available outside our propert...   \n",
       "...                   ...                                                ...   \n",
       "494311                1.0                                                NaN   \n",
       "494322               28.0  FREE PARKING SPOT INCLUDED Plenty of convenien...   \n",
       "494553                1.0                                                NaN   \n",
       "494651                1.0                                                NaN   \n",
       "494881                1.0                                                NaN   \n",
       "\n",
       "                                 Host Location Property Type        Room Type  \\\n",
       "381             almere, flevoland, netherlands     Apartment  Entire home/apt   \n",
       "455                                         fr     Apartment  Entire home/apt   \n",
       "502                     london, united kingdom     Apartment     Private room   \n",
       "512            london, england, united kingdom         House     Private room   \n",
       "550            london, england, united kingdom         House     Private room   \n",
       "...                                        ...           ...              ...   \n",
       "494311  los angeles, california, united states     Apartment  Entire home/apt   \n",
       "494322  los angeles, california, united states   Condominium     Private room   \n",
       "494553          ibiza, balearic islands, spain     Apartment  Entire home/apt   \n",
       "494651                 balearic islands, spain         House  Entire home/apt   \n",
       "494881  los angeles, california, united states    Guesthouse  Entire home/apt   \n",
       "\n",
       "        Square Feet  Guests Included  \n",
       "381             NaN              1.0  \n",
       "455             NaN              1.0  \n",
       "502             NaN              1.0  \n",
       "512             NaN              1.0  \n",
       "550             NaN              1.0  \n",
       "...             ...              ...  \n",
       "494311          NaN              1.0  \n",
       "494322          NaN              3.0  \n",
       "494553          NaN              1.0  \n",
       "494651          NaN              1.0  \n",
       "494881          NaN              3.0  \n",
       "\n",
       "[6050 rows x 12 columns]"
      ]
     },
     "metadata": {},
     "output_type": "display_data"
    }
   ],
   "source": [
    "# get number of nan in Review scores Rating where Number of Review is not 0\n",
    "print(dataOfInterest[(dataOfInterest['Number of Reviews'] != 0) & (dataOfInterest['Review Scores Rating'].isna())].shape[0])\n",
    "display(dataOfInterest[(dataOfInterest['Number of Reviews'] != 0) & (dataOfInterest['Review Scores Rating'].isna())])"
   ]
  },
  {
   "cell_type": "code",
   "execution_count": 41,
   "metadata": {},
   "outputs": [
    {
     "name": "stdout",
     "output_type": "stream",
     "text": [
      "494953\n",
      "494918\n"
     ]
    }
   ],
   "source": []
  },
  {
   "cell_type": "code",
   "execution_count": 38,
   "metadata": {},
   "outputs": [
    {
     "name": "stderr",
     "output_type": "stream",
     "text": [
      "C:\\Users\\sce2rng\\AppData\\Local\\Temp\\ipykernel_9632\\2527966607.py:2: SettingWithCopyWarning: \n",
      "A value is trying to be set on a copy of a slice from a DataFrame.\n",
      "Try using .loc[row_indexer,col_indexer] = value instead\n",
      "\n",
      "See the caveats in the documentation: https://pandas.pydata.org/pandas-docs/stable/user_guide/indexing.html#returning-a-view-versus-a-copy\n",
      "  dataOfInterest['nanReview'] = dataOfInterest.apply(lambda x: 1 if (np.isnan(x['Review Scores Rating']) and x['Number of Reviews'] == 0) else 0, axis=1)\n"
     ]
    }
   ],
   "source": [
    "# add a new column to dataSel which is 1 when Review scores rating = nan and Number of Reviews = 0 and if not 0\n",
    "dataOfInterest['noReview'] = dataOfInterest.apply(lambda x: 1 if (np.isnan(x['Review Scores Rating']) and x['Number of Reviews'] == 0) else 0, axis=1)"
   ]
  },
  {
   "cell_type": "code",
   "execution_count": 40,
   "metadata": {},
   "outputs": [
    {
     "data": {
      "text/html": [
       "<div>\n",
       "<style scoped>\n",
       "    .dataframe tbody tr th:only-of-type {\n",
       "        vertical-align: middle;\n",
       "    }\n",
       "\n",
       "    .dataframe tbody tr th {\n",
       "        vertical-align: top;\n",
       "    }\n",
       "\n",
       "    .dataframe thead th {\n",
       "        text-align: right;\n",
       "    }\n",
       "</style>\n",
       "<table border=\"1\" class=\"dataframe\">\n",
       "  <thead>\n",
       "    <tr style=\"text-align: right;\">\n",
       "      <th></th>\n",
       "      <th>Price</th>\n",
       "      <th>Country</th>\n",
       "      <th>Latitude</th>\n",
       "      <th>Longitude</th>\n",
       "      <th>Review Scores Rating</th>\n",
       "      <th>Number of Reviews</th>\n",
       "      <th>Transit</th>\n",
       "      <th>Host Location</th>\n",
       "      <th>Property Type</th>\n",
       "      <th>Room Type</th>\n",
       "      <th>Square Feet</th>\n",
       "      <th>Guests Included</th>\n",
       "      <th>nanReview</th>\n",
       "    </tr>\n",
       "  </thead>\n",
       "  <tbody>\n",
       "    <tr>\n",
       "      <th>40783</th>\n",
       "      <td>NaN</td>\n",
       "      <td>NaN</td>\n",
       "      <td>NaN</td>\n",
       "      <td>NaN</td>\n",
       "      <td>NaN</td>\n",
       "      <td>NaN</td>\n",
       "      <td>I live one block from 24th Bart Station, from ...</td>\n",
       "      <td>san francisco, california, united states</td>\n",
       "      <td>NaN</td>\n",
       "      <td>NaN</td>\n",
       "      <td>NaN</td>\n",
       "      <td>NaN</td>\n",
       "      <td>0</td>\n",
       "    </tr>\n",
       "    <tr>\n",
       "      <th>159712</th>\n",
       "      <td>64.0</td>\n",
       "      <td>NaN</td>\n",
       "      <td>40.476713</td>\n",
       "      <td>-3.571890</td>\n",
       "      <td>NaN</td>\n",
       "      <td>0.0</td>\n",
       "      <td>NaN</td>\n",
       "      <td>naples, campania, italy</td>\n",
       "      <td>House</td>\n",
       "      <td>Private room</td>\n",
       "      <td>NaN</td>\n",
       "      <td>1.0</td>\n",
       "      <td>1</td>\n",
       "    </tr>\n",
       "    <tr>\n",
       "      <th>311255</th>\n",
       "      <td>70.0</td>\n",
       "      <td>NaN</td>\n",
       "      <td>45.958855</td>\n",
       "      <td>10.907582</td>\n",
       "      <td>NaN</td>\n",
       "      <td>0.0</td>\n",
       "      <td>La fermata dei pulman si trova a 50 mt da casa...</td>\n",
       "      <td>ceniga, trentino-alto adige, italy</td>\n",
       "      <td>Apartment</td>\n",
       "      <td>Entire home/apt</td>\n",
       "      <td>NaN</td>\n",
       "      <td>1.0</td>\n",
       "      <td>1</td>\n",
       "    </tr>\n",
       "  </tbody>\n",
       "</table>\n",
       "</div>"
      ],
      "text/plain": [
       "        Price Country   Latitude  Longitude  Review Scores Rating  \\\n",
       "40783     NaN     NaN        NaN        NaN                   NaN   \n",
       "159712   64.0     NaN  40.476713  -3.571890                   NaN   \n",
       "311255   70.0     NaN  45.958855  10.907582                   NaN   \n",
       "\n",
       "        Number of Reviews                                            Transit  \\\n",
       "40783                 NaN  I live one block from 24th Bart Station, from ...   \n",
       "159712                0.0                                                NaN   \n",
       "311255                0.0  La fermata dei pulman si trova a 50 mt da casa...   \n",
       "\n",
       "                                   Host Location Property Type  \\\n",
       "40783   san francisco, california, united states           NaN   \n",
       "159712                   naples, campania, italy         House   \n",
       "311255        ceniga, trentino-alto adige, italy     Apartment   \n",
       "\n",
       "              Room Type  Square Feet  Guests Included  nanReview  \n",
       "40783               NaN          NaN              NaN          0  \n",
       "159712     Private room          NaN              1.0          1  \n",
       "311255  Entire home/apt          NaN              1.0          1  "
      ]
     },
     "metadata": {},
     "output_type": "display_data"
    }
   ],
   "source": [
    "# get the row index where Country is nan\n",
    "display(dataOfInterest[dataOfInterest['Country'].isna()])\n"
   ]
  },
  {
   "cell_type": "code",
   "execution_count": 34,
   "metadata": {},
   "outputs": [],
   "source": [
    "foundCountrys = list(set(list(countryCodeDict.values()) + list(otherCountrys.values()) + restCountrys+ list(lastCountrys.values())))"
   ]
  },
  {
   "cell_type": "code",
   "execution_count": 35,
   "metadata": {},
   "outputs": [
    {
     "data": {
      "text/plain": [
       "<AxesSubplot:title={'center':'Country distribution'}>"
      ]
     },
     "execution_count": 35,
     "metadata": {},
     "output_type": "execute_result"
    },
    {
     "data": {
      "image/png": "[encoded data removed]",
      "text/plain": [
       "<Figure size 1000x500 with 1 Axes>"
      ]
     },
     "metadata": {},
     "output_type": "display_data"
    }
   ],
   "source": [
    "# create bar chart for all 'Country' values\n",
    "data['Country'].value_counts().plot(kind='bar', figsize=(10,5), title='Country distribution')"
   ]
  }
 ],
 "metadata": {
  "kernelspec": {
   "display_name": "Python 3",
   "language": "python",
   "name": "python3"
  },
  "language_info": {
   "codemirror_mode": {
    "name": "ipython",
    "version": 3
   },
   "file_extension": ".py",
   "mimetype": "text/x-python",
   "name": "python",
   "nbconvert_exporter": "python",
   "pygments_lexer": "ipython3",
   "version": "3.10.12"
  }
 },
 "nbformat": 4,
 "nbformat_minor": 2
}
