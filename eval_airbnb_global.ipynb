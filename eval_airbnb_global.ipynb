{
 "cells": [
  {
   "cell_type": "code",
   "execution_count": 13,
   "metadata": {},
   "outputs": [
    {
     "name": "stderr",
     "output_type": "stream",
     "text": [
      "C:\\Users\\sce2rng\\AppData\\Local\\Temp\\ipykernel_12696\\2903360272.py:5: DtypeWarning: Columns (0,2,66) have mixed types. Specify dtype option on import or set low_memory=False.\n",
      "  data = pd.read_csv(pathData, sep=\";\")\n"
     ]
    },
    {
     "name": "stdout",
     "output_type": "stream",
     "text": [
      "494954\n",
      "494953\n"
     ]
    }
   ],
   "source": [
    "import pandas as pd\n",
    "\n",
    "pathData = r\"C:\\data\\udacity\\airbnb_global\\airbnb-listings.csv\"\n",
    "\n",
    "data = pd.read_csv(pathData, sep=\";\")\n",
    "\n",
    "# drop raw from data where Country is 0\n",
    "print(len(dataSel))\n",
    "dataSel = dataSel[dataSel['Country'] != '0']\n",
    "print(len(data))\n",
    "data['Host Location'] = data['Host Location'].str.lower()"
   ]
  },
  {
   "cell_type": "code",
   "execution_count": 14,
   "metadata": {},
   "outputs": [],
   "source": [
    "def create_dummy_df(df, cat_cols, dummy_na = False):\n",
    "    '''\n",
    "    INPUT:\n",
    "    df - pandas dataframe with categorical variables you want to dummy\n",
    "    cat_cols - list of strings that are associated with names of the categorical columns\n",
    "    dummy_na - Bool holding whether you want to dummy NA vals of categorical columns or not\n",
    "    \n",
    "    OUTPUT:\n",
    "    df - a new dataframe that has the following characteristics:\n",
    "            1. contains all columns that were not specified as categorical\n",
    "            2. removes all the original columns in cat_cols\n",
    "            3. dummy columns for each of the categorical columns in cat_cols\n",
    "            4. if dummy_na is True - it also contains dummy columns for the NaN values\n",
    "            5. Use a prefix of the column name with an underscore (_) for separating \n",
    "    '''\n",
    "    #\n",
    "    no_categoricals = df.loc[:, ~df.columns.isin(cat_cols)] # der Tilde-Operator ~ verwendet wird, um die Bedingung umzukehren\n",
    "    df_with_cat_cols = df.drop(df.columns[~df.columns.isin(cat_cols)], axis=1)\n",
    "    columns = df_with_cat_cols.columns # get the columns in the right order\n",
    "    \n",
    "    \n",
    "     # 1. + 2. + 3. + 4. + 5.\n",
    "    new_df = pd.get_dummies(df, dummy_na=dummy_na, prefix=columns, drop_first=True) \n",
    "    \n",
    "    return new_df"
   ]
  },
  {
   "cell_type": "code",
   "execution_count": 15,
   "metadata": {},
   "outputs": [
    {
     "name": "stdout",
     "output_type": "stream",
     "text": [
      "486995\n",
      "Price                   float64\n",
      "Country                  object\n",
      "Latitude                float64\n",
      "Longitude               float64\n",
      "Review Scores Rating    float64\n",
      "Number of Reviews       float64\n",
      "Transit                  object\n",
      "Host Location            object\n",
      "Property Type            object\n",
      "Room Type                object\n",
      "Square Feet             float64\n",
      "Guests Included         float64\n",
      "dtype: object\n"
     ]
    }
   ],
   "source": [
    "dataSel = data[['Price', 'Country', 'Latitude', 'Longitude', 'Review Scores Rating', 'Number of Reviews', 'Transit', 'Host Location', 'Property Type', 'Room Type', 'Square Feet', 'Guests Included']]\n",
    "dataSel = dataSel.dropna(axis=0, subset=[\"Price\"])  # Drop the rows with missing salaries\n",
    "print(len(dataSel))\n",
    "print(dataSel.dtypes)"
   ]
  },
  {
   "cell_type": "code",
   "execution_count": 16,
   "metadata": {},
   "outputs": [
    {
     "name": "stdout",
     "output_type": "stream",
     "text": [
      "Index(['Price', 'Country', 'Latitude', 'Longitude', 'Review Scores Rating',\n",
      "       'Number of Reviews', 'Host Location', 'Property Type', 'Room Type',\n",
      "       'Square Feet', 'Guests Included', 'TransitBool'],\n",
      "      dtype='object')\n"
     ]
    }
   ],
   "source": [
    "# switch Transit column to boolean column nan values are 0 and other values are 1\n",
    "# assumption everything with no nan have a transit\n",
    "TransitBool = ~data['Transit'].isna()\n",
    "dataSel[\"TransitBool\"]= TransitBool.astype(int)\n",
    "dataSel = dataSel.drop(columns=[\"Transit\"])\n",
    "print(dataSel.columns)\n",
    "\n"
   ]
  },
  {
   "cell_type": "code",
   "execution_count": 17,
   "metadata": {},
   "outputs": [
    {
     "data": {
      "text/plain": [
       "Index(['Country', 'Host Location', 'Property Type', 'Room Type'], dtype='object')"
      ]
     },
     "execution_count": 17,
     "metadata": {},
     "output_type": "execute_result"
    }
   ],
   "source": [
    "catColumns = dataSel.select_dtypes(include=['object'])\n",
    "catNames = catColumns.columns\n",
    "catNames"
   ]
  },
  {
   "cell_type": "code",
   "execution_count": 18,
   "metadata": {},
   "outputs": [],
   "source": [
    "countryCodeDict = {\"cx\":\"christmas island\", \"nl\":\"netherlands\", \"us\": \"united states\", \"es\": \"spain\", \"fr\": \"france\", \"it\": \"italy\", \n",
    "                   \"gb\": \"united kingdom\", \"de\": \"germany\", \"au\": \"australia\", \"ca\": \"canada\", \"pt\": \"portugal\", \n",
    "                   \"gr\": \"greece\", \"be\": \"belgium\", \"at\": \"austria\", \"ch\": \"switzerland\", \"dk\": \"denmark\", \"se\": \"sweden\", \n",
    "                   \"no\": \"norway\", \"fi\": \"finland\", \"ie\": \"ireland\", \"nz\": \"new zealand\", \"lu\": \"luxembourg\", \"sg\": \"singapore\", \n",
    "                   \"hk\": \"hong kong\", \"jp\": \"japan\", \"kr\": \"south korea\", \"tw\": \"taiwan\", \"cn\": \"china\", \"br\": \"brazil\", \"mx\": \"mexico\", \n",
    "                   \"ar\": \"argentina\", \"cl\": \"chile\", \"co\": \"colombia\", \"pe\": \"peru\", \"za\": \"south africa\",\n",
    "                   'ua': 'ukraine', 'sk': 'slovakia', 'wa': 'western sahara', 'dj': 'djibouti', 'by': 'belarus', \n",
    "                    'is': 'iceland', 'zm': 'zambia', 'mq': 'martinique', 'bl': 'saint barthélemy', 'la': 'laos', \n",
    "                    'ec': 'ecuador', 'jo': 'jordan', 'nc': 'new caledonia', 'mt': 'malta', 'eg': 'egypt', \n",
    "                    'ro': 'romania', 'rw': 'rwanda', 'de': 'germany', 'ke': 'kenya', '伦敦': 'united kingdom', \n",
    "                    'mg': 'madagascar', 'ae': 'united arab emirates', '加州': \"united states\", 'hn': 'honduras', \n",
    "                    'cz': 'czech republic', 'md': 'moldova', 'nl': 'netherlands', 'do': 'dominican republic', \n",
    "                    'si': 'slovenia', 'ma': 'morocco', 'dk': 'denmark', 'cm': 'cameroon', 'xk': 'kosovo', \n",
    "                    'bg': 'bulgaria', 'pr': 'puerto rico', 've': 'venezuela', 'sp': 'spain', 'th': 'thailand', \n",
    "                    'cr': 'costa rica', 'uk': 'united kingdom', 'lb': 'lebanon', 'ru': 'russia', 'vn': 'vietnam', \n",
    "                    'pa': 'panama', 'rd': 'dominican republic', 'fr': 'france', 'rs': 'serbia', 'bt': 'bhutan', \n",
    "                    'ge': 'georgia', 'al': 'albania', 'in': 'india', 'lt': 'lithuania', 'ee': 'estonia', \n",
    "                    'tt': 'trinidad and tobago', 'ng': 'nigeria', 'eu': 'european union', 'am': 'armenia', \n",
    "                    'it': 'italy', 'gh': 'ghana', 'hu': 'hungary', 'cw': 'curaçao', 'gr': 'greece', 'dm': 'dominica', \n",
    "                    'tn': 'tunisia', 'uk': 'united kingdom', 'id': 'indonesia', 'tr': 'turkey', \n",
    "                    'vc': 'saint vincent and the grenadines', 'ph': 'philippines', 'bd': 'bangladesh', 'rm': 'rome', \n",
    "                    'ht': 'haiti', 'qa': 'qatar', 'pl': 'poland', 'bc': 'british columbia', '中国': 'china', \n",
    "                    'it': 'italy', 'gt': 'guatemala', 'dz': 'algeria', 'cy': 'cyprus', 'vg': 'united kingdom', \n",
    "                    'gp': 'guadeloupe', 'bj': 'benin', 'pf': 'french polynesia', 'la': 'laos', 'uy': 'uruguay', \n",
    "                    'je': 'jersey', 'sa': 'saudi arabia', 'hr': 'croatia', 'il': 'israel', 'im': 'isle of man', \n",
    "                    're': 'réunion', 'lk': 'sri lanka', 'lv': 'latvia', 'mc': 'monaco', 'bh': 'bahrain', 'jm': 'jamaica', \n",
    "                    'es': 'spain', 'aw': 'aruba', 'my': 'malaysia', 'uk': 'united kingdom', \n",
    "                    'vi': \"united states\", 'dc': \"united states\", 'tx': \"united states\", 'nj': \"united states\", 'ny': \"united states\",'as': \"united states\", \n",
    "                    'eu': 'european union', '香港': 'hong kong', 'ap': 'asia/pacific region'}\n",
    "\n",
    "otherCountrys = {\"sydney\": \"australia\", \"scotland\": 'united kingdom', \"england\": 'united kingdom', \"london\": 'united kingdom', \n",
    "                \"u.k.\": \"united kingdom\", \"u.s.\": \"united states\", \"uk\":'united kingdom', \"us\": \"united states\", \"canadá\": \"canada\", \n",
    "                \"mallorca\": \"spain\", \"españa\": \"spain\", \"roma\": \"italy\", \"italia\": \"italy\", \"paris\": \"france\", \"ny\": \"united states\",\n",
    "                \"new york\": \"united states\", \"copenhagen\": \"denmark\", \"berlin\": \"germany\", \"mexico city\": \"mexico\",\n",
    "                \"québec\": \"canada\",\"quebec\": \"canada\", \"danmark\": \"denmark\", \"nederland\": \"netherlands\", \"nederlanden\": \"netherlands\",\n",
    "                \"hongkong\": \"hong kong\", \"california\": \"united states\", \"texas\": \"united states\", \"florida\": \"united states\",\n",
    "                \"香港中环堅尼地dao\": \"hong kong\", \"wales\": \"united kingdom\", \"venice beach\": \"united states\", \"venice\": \"italy\",\n",
    "                \"dublin\": \"irland\", \"buenos aires\": \"argentina\", \"barcelona\": \"spain\", \"madrid\": \"spain\", \"lisbon\": \"portugal\", \n",
    "                \"londra\": \"united kingdom\", \"queensland\": \"australia\", \"victoria\": \"australia\", \"melbourne\": \"australia\",\n",
    "                \"tel aviv\": \"israel\", \"espana\": \"spain\", \"korea\": \"south korea\", \"calviá\": \"spain\", \"ontario\": \"canada\", \n",
    "                \"中國香港\": \"hong kong\", \"brooklyn\": \"united states\", \"macau\": \"china\", \"shoreditch\": 'united kingdom'}\n",
    "\n",
    "restCountrys = [\"brasil\", \"uzbekistan\", \"cuba\", \"fiji\", \"ethiopia\", \"south korea\", \"grece\", \"iraq\", \"yemen\", \"bahamas\", \"israel\", \"vanuatu\", \"vatican city\", \"luxemburg\", \"libya\", \"senegal\", \"istanbul\"]\n",
    "\n"
   ]
  },
  {
   "cell_type": "code",
   "execution_count": 19,
   "metadata": {},
   "outputs": [
    {
     "name": "stdout",
     "output_type": "stream",
     "text": [
      "united states             203435\n",
      "united kingdom             59789\n",
      "france                     55449\n",
      "spain                      42926\n",
      "italy                      32643\n",
      "                           ...  \n",
      "santa monica mountains         1\n",
      " 2100 københavn ø              1\n",
      "sw19 3de                       1\n",
      " edinburgh                     1\n",
      "herman triers plads            1\n",
      "Name: Host Location, Length: 938, dtype: int64\n"
     ]
    }
   ],
   "source": [
    "# replace host location with country code if it is in the dictionary\n",
    "for key in countryCodeDict.keys():\n",
    "    data['Host Location'] = data['Host Location'].replace(key, countryCodeDict[key])\n",
    "\n",
    "# when one of the Values of the countryCodeDict is part of the Host Location, replace it with that value\n",
    "for value in list(countryCodeDict.values()) + restCountrys:\n",
    "    data['Host Location'] = data['Host Location'].replace({f'.*{value}.*': value}, regex=True)\n",
    "\n",
    "# replace other parts\n",
    "for key in otherCountrys.keys():\n",
    "    data['Host Location'] = data['Host Location'].replace({f'.*{key}.*': otherCountrys[key]}, regex=True)\n",
    "\n",
    "# replace Host location with 2 \",\" with the part after the last \",\"\n",
    "data['Host Location'] = data['Host Location'].apply(lambda x: str(x).split(',')[-1] if str(x).count(',') == 2 else x)\n",
    "\n",
    "\n",
    "print(data['Host Location'].value_counts())"
   ]
  },
  {
   "cell_type": "code",
   "execution_count": 28,
   "metadata": {},
   "outputs": [
    {
     "name": "stdout",
     "output_type": "stream",
     "text": [
      "lost rows: 3801\n",
      "Number of different Host Locations 126\n",
      "united states       203435\n",
      "united kingdom       59789\n",
      "france               55449\n",
      "spain                42926\n",
      "italy                32643\n",
      "                     ...  \n",
      "fiji                     1\n",
      "saint barthélemy         1\n",
      "bhutan                   1\n",
      "vatican city             1\n",
      "benin                    1\n",
      "Name: Host Location, Length: 126, dtype: int64\n"
     ]
    }
   ],
   "source": [
    "foundCountrys = list(set(list(countryCodeDict.values()) + list(otherCountrys.values()) + restCountrys))\n",
    "seriesHostLocation = data[\"Host Location\"] \n",
    "#notInDict = [location for location in seriesHostLocation if location not in foundCountrys]\n",
    "# delet all rows in data where the host location is not in the foundCountrys\n",
    "clean1Data = data[data['Host Location'].isin(foundCountrys)]\n",
    "print(f\"lost rows: {len(data) - len(clean1Data)}\")\n",
    "print(f\"Number of different Host Locations {len(clean1Data['Host Location'].value_counts())}\")\n",
    "print(clean1Data['Host Location'].value_counts())"
   ]
  },
  {
   "cell_type": "code",
   "execution_count": 29,
   "metadata": {},
   "outputs": [
    {
     "name": "stdout",
     "output_type": "stream",
     "text": [
      "11891\n"
     ]
    },
    {
     "data": {
      "text/html": [
       "<div>\n",
       "<style scoped>\n",
       "    .dataframe tbody tr th:only-of-type {\n",
       "        vertical-align: middle;\n",
       "    }\n",
       "\n",
       "    .dataframe tbody tr th {\n",
       "        vertical-align: top;\n",
       "    }\n",
       "\n",
       "    .dataframe thead th {\n",
       "        text-align: right;\n",
       "    }\n",
       "</style>\n",
       "<table border=\"1\" class=\"dataframe\">\n",
       "  <thead>\n",
       "    <tr style=\"text-align: right;\">\n",
       "      <th></th>\n",
       "      <th>Price</th>\n",
       "      <th>Latitude</th>\n",
       "      <th>Longitude</th>\n",
       "      <th>Review Scores Rating</th>\n",
       "      <th>Number of Reviews</th>\n",
       "      <th>Square Feet</th>\n",
       "      <th>Guests Included</th>\n",
       "      <th>TransitBool</th>\n",
       "      <th>Country_Austria</th>\n",
       "      <th>Country_Belgium</th>\n",
       "      <th>...</th>\n",
       "      <th>Property Type_Tipi</th>\n",
       "      <th>Property Type_Townhouse</th>\n",
       "      <th>Property Type_Train</th>\n",
       "      <th>Property Type_Treehouse</th>\n",
       "      <th>Property Type_Vacation home</th>\n",
       "      <th>Property Type_Van</th>\n",
       "      <th>Property Type_Villa</th>\n",
       "      <th>Property Type_Yurt</th>\n",
       "      <th>Room Type_Private room</th>\n",
       "      <th>Room Type_Shared room</th>\n",
       "    </tr>\n",
       "  </thead>\n",
       "  <tbody>\n",
       "    <tr>\n",
       "      <th>0</th>\n",
       "      <td>600.0</td>\n",
       "      <td>52.365237</td>\n",
       "      <td>4.878250</td>\n",
       "      <td>89.0</td>\n",
       "      <td>31.0</td>\n",
       "      <td>NaN</td>\n",
       "      <td>4.0</td>\n",
       "      <td>0</td>\n",
       "      <td>0</td>\n",
       "      <td>0</td>\n",
       "      <td>...</td>\n",
       "      <td>0</td>\n",
       "      <td>0</td>\n",
       "      <td>0</td>\n",
       "      <td>0</td>\n",
       "      <td>0</td>\n",
       "      <td>0</td>\n",
       "      <td>0</td>\n",
       "      <td>0</td>\n",
       "      <td>0</td>\n",
       "      <td>0</td>\n",
       "    </tr>\n",
       "    <tr>\n",
       "      <th>1</th>\n",
       "      <td>175.0</td>\n",
       "      <td>52.367309</td>\n",
       "      <td>4.873841</td>\n",
       "      <td>99.0</td>\n",
       "      <td>15.0</td>\n",
       "      <td>NaN</td>\n",
       "      <td>2.0</td>\n",
       "      <td>1</td>\n",
       "      <td>0</td>\n",
       "      <td>0</td>\n",
       "      <td>...</td>\n",
       "      <td>0</td>\n",
       "      <td>0</td>\n",
       "      <td>0</td>\n",
       "      <td>0</td>\n",
       "      <td>0</td>\n",
       "      <td>0</td>\n",
       "      <td>0</td>\n",
       "      <td>0</td>\n",
       "      <td>0</td>\n",
       "      <td>0</td>\n",
       "    </tr>\n",
       "    <tr>\n",
       "      <th>2</th>\n",
       "      <td>125.0</td>\n",
       "      <td>52.361944</td>\n",
       "      <td>4.866687</td>\n",
       "      <td>100.0</td>\n",
       "      <td>1.0</td>\n",
       "      <td>NaN</td>\n",
       "      <td>1.0</td>\n",
       "      <td>0</td>\n",
       "      <td>0</td>\n",
       "      <td>0</td>\n",
       "      <td>...</td>\n",
       "      <td>0</td>\n",
       "      <td>0</td>\n",
       "      <td>0</td>\n",
       "      <td>0</td>\n",
       "      <td>0</td>\n",
       "      <td>0</td>\n",
       "      <td>0</td>\n",
       "      <td>0</td>\n",
       "      <td>0</td>\n",
       "      <td>0</td>\n",
       "    </tr>\n",
       "    <tr>\n",
       "      <th>3</th>\n",
       "      <td>130.0</td>\n",
       "      <td>52.370146</td>\n",
       "      <td>4.866282</td>\n",
       "      <td>97.0</td>\n",
       "      <td>22.0</td>\n",
       "      <td>NaN</td>\n",
       "      <td>2.0</td>\n",
       "      <td>1</td>\n",
       "      <td>0</td>\n",
       "      <td>0</td>\n",
       "      <td>...</td>\n",
       "      <td>0</td>\n",
       "      <td>0</td>\n",
       "      <td>0</td>\n",
       "      <td>0</td>\n",
       "      <td>0</td>\n",
       "      <td>0</td>\n",
       "      <td>0</td>\n",
       "      <td>0</td>\n",
       "      <td>0</td>\n",
       "      <td>0</td>\n",
       "    </tr>\n",
       "    <tr>\n",
       "      <th>4</th>\n",
       "      <td>80.0</td>\n",
       "      <td>52.368818</td>\n",
       "      <td>4.871249</td>\n",
       "      <td>78.0</td>\n",
       "      <td>16.0</td>\n",
       "      <td>NaN</td>\n",
       "      <td>1.0</td>\n",
       "      <td>0</td>\n",
       "      <td>0</td>\n",
       "      <td>0</td>\n",
       "      <td>...</td>\n",
       "      <td>0</td>\n",
       "      <td>0</td>\n",
       "      <td>0</td>\n",
       "      <td>0</td>\n",
       "      <td>0</td>\n",
       "      <td>0</td>\n",
       "      <td>0</td>\n",
       "      <td>0</td>\n",
       "      <td>0</td>\n",
       "      <td>0</td>\n",
       "    </tr>\n",
       "  </tbody>\n",
       "</table>\n",
       "<p>5 rows × 11891 columns</p>\n",
       "</div>"
      ],
      "text/plain": [
       "   Price   Latitude  Longitude  Review Scores Rating  Number of Reviews  \\\n",
       "0  600.0  52.365237   4.878250                  89.0               31.0   \n",
       "1  175.0  52.367309   4.873841                  99.0               15.0   \n",
       "2  125.0  52.361944   4.866687                 100.0                1.0   \n",
       "3  130.0  52.370146   4.866282                  97.0               22.0   \n",
       "4   80.0  52.368818   4.871249                  78.0               16.0   \n",
       "\n",
       "   Square Feet  Guests Included  TransitBool  Country_Austria  \\\n",
       "0          NaN              4.0            0                0   \n",
       "1          NaN              2.0            1                0   \n",
       "2          NaN              1.0            0                0   \n",
       "3          NaN              2.0            1                0   \n",
       "4          NaN              1.0            0                0   \n",
       "\n",
       "   Country_Belgium  ...  Property Type_Tipi  Property Type_Townhouse  \\\n",
       "0                0  ...                   0                        0   \n",
       "1                0  ...                   0                        0   \n",
       "2                0  ...                   0                        0   \n",
       "3                0  ...                   0                        0   \n",
       "4                0  ...                   0                        0   \n",
       "\n",
       "   Property Type_Train  Property Type_Treehouse  Property Type_Vacation home  \\\n",
       "0                    0                        0                            0   \n",
       "1                    0                        0                            0   \n",
       "2                    0                        0                            0   \n",
       "3                    0                        0                            0   \n",
       "4                    0                        0                            0   \n",
       "\n",
       "   Property Type_Van  Property Type_Villa  Property Type_Yurt  \\\n",
       "0                  0                    0                   0   \n",
       "1                  0                    0                   0   \n",
       "2                  0                    0                   0   \n",
       "3                  0                    0                   0   \n",
       "4                  0                    0                   0   \n",
       "\n",
       "   Room Type_Private room  Room Type_Shared room  \n",
       "0                       0                      0  \n",
       "1                       0                      0  \n",
       "2                       0                      0  \n",
       "3                       0                      0  \n",
       "4                       0                      0  \n",
       "\n",
       "[5 rows x 11891 columns]"
      ]
     },
     "metadata": {},
     "output_type": "display_data"
    }
   ],
   "source": [
    "dummySet = create_dummy_df(dataSel, catNames)\n",
    "print(len(dummySet.columns))\n",
    "display(dummySet.head(5))"
   ]
  },
  {
   "cell_type": "code",
   "execution_count": null,
   "metadata": {},
   "outputs": [
    {
     "data": {
      "text/plain": [
       "Index(['Price', 'Latitude', 'Longitude', 'Review Scores Rating',\n",
       "       'Number of Reviews', 'Square Feet', 'Guests Included', 'TransitBool',\n",
       "       'Country_Austria', 'Country_Belgium',\n",
       "       ...\n",
       "       'Property Type_Tipi', 'Property Type_Townhouse', 'Property Type_Train',\n",
       "       'Property Type_Treehouse', 'Property Type_Vacation home',\n",
       "       'Property Type_Van', 'Property Type_Villa', 'Property Type_Yurt',\n",
       "       'Room Type_Private room', 'Room Type_Shared room'],\n",
       "      dtype='object', length=12075)"
      ]
     },
     "execution_count": 9,
     "metadata": {},
     "output_type": "execute_result"
    }
   ],
   "source": [
    "dummySet.columns"
   ]
  },
  {
   "cell_type": "code",
   "execution_count": null,
   "metadata": {},
   "outputs": [],
   "source": [
    "fill_mean = lambda col: col.fillna(col.mean()) # calculate the mean of the column and fill the missing values\n",
    "fill_mode = lambda col: col.fillna(col.mode())  # get the most common value of the column and fill the missing values"
   ]
  },
  {
   "cell_type": "code",
   "execution_count": null,
   "metadata": {},
   "outputs": [
    {
     "ename": "NameError",
     "evalue": "name 'df_dropna' is not defined",
     "output_type": "error",
     "traceback": [
      "\u001b[1;31m---------------------------------------------------------------------------\u001b[0m",
      "\u001b[1;31mNameError\u001b[0m                                 Traceback (most recent call last)",
      "Cell \u001b[1;32mIn[8], line 1\u001b[0m\n\u001b[1;32m----> 1\u001b[0m X \u001b[38;5;241m=\u001b[39m \u001b[43mdf_dropna\u001b[49m[[\u001b[38;5;124m'\u001b[39m\u001b[38;5;124mCareerSatisfaction\u001b[39m\u001b[38;5;124m'\u001b[39m, \u001b[38;5;124m'\u001b[39m\u001b[38;5;124mHoursPerWeek\u001b[39m\u001b[38;5;124m'\u001b[39m, \u001b[38;5;124m'\u001b[39m\u001b[38;5;124mJobSatisfaction\u001b[39m\u001b[38;5;124m'\u001b[39m, \u001b[38;5;124m'\u001b[39m\u001b[38;5;124mStackOverflowSatisfaction\u001b[39m\u001b[38;5;124m'\u001b[39m]]\n\u001b[0;32m      2\u001b[0m y \u001b[38;5;241m=\u001b[39m df_dropna[\u001b[38;5;124m'\u001b[39m\u001b[38;5;124mSalary\u001b[39m\u001b[38;5;124m'\u001b[39m]\n\u001b[0;32m      4\u001b[0m \u001b[38;5;66;03m#Split into train and test\u001b[39;00m\n",
      "\u001b[1;31mNameError\u001b[0m: name 'df_dropna' is not defined"
     ]
    }
   ],
   "source": [
    "X = df_dropna[['CareerSatisfaction', 'HoursPerWeek', 'JobSatisfaction', 'StackOverflowSatisfaction']]\n",
    "y = df_dropna['Salary']\n",
    "\n",
    "#Split into train and test\n",
    "X_train, X_test, y_train, y_test = train_test_split(X, y, test_size = .30, random_state=42) \n",
    "\n",
    "lm_model = LinearRegression(normalize=True) # Instantiate\n",
    "lm_model.fit(X_train, y_train) #Fit\n",
    "        \n",
    "#Predict and score the model\n",
    "y_test_preds = lm_model.predict(X_test) \n",
    "\"The r-squared score for your model was {} on {} values.\".format(r2_score(y_test, y_test_preds), len(y_test))"
   ]
  }
 ],
 "metadata": {
  "kernelspec": {
   "display_name": "Python 3",
   "language": "python",
   "name": "python3"
  },
  "language_info": {
   "codemirror_mode": {
    "name": "ipython",
    "version": 3
   },
   "file_extension": ".py",
   "mimetype": "text/x-python",
   "name": "python",
   "nbconvert_exporter": "python",
   "pygments_lexer": "ipython3",
   "version": "3.10.12"
  }
 },
 "nbformat": 4,
 "nbformat_minor": 2
}
