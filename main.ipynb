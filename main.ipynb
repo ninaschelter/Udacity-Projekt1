{
 "cells": [
  {
   "cell_type": "code",
   "execution_count": 1,
   "metadata": {},
   "outputs": [
    {
     "name": "stdout",
     "output_type": "stream",
     "text": [
      "test\n"
     ]
    }
   ],
   "source": [
    "# first test\n",
    "print(\"test\")"
   ]
  },
  {
   "cell_type": "code",
   "execution_count": 4,
   "metadata": {},
   "outputs": [
    {
     "name": "stdout",
     "output_type": "stream",
     "text": [
      "2011\n",
      "2012\n",
      "2013\n"
     ]
    },
    {
     "name": "stderr",
     "output_type": "stream",
     "text": [
      "C:\\Users\\sce2rng\\AppData\\Local\\Temp\\ipykernel_23992\\3949131819.py:11: DtypeWarning: Columns (46,48,62) have mixed types. Specify dtype option on import or set low_memory=False.\n",
      "  surveyDict[folder] = pd.read_csv(folderPath + \"\\\\\" + surveyResult[0], encoding=\"ISO-8859-1\")\n"
     ]
    },
    {
     "name": "stdout",
     "output_type": "stream",
     "text": [
      "2014\n",
      "2015\n"
     ]
    },
    {
     "name": "stderr",
     "output_type": "stream",
     "text": [
      "C:\\Users\\sce2rng\\AppData\\Local\\Temp\\ipykernel_23992\\3949131819.py:11: DtypeWarning: Columns (5,108,121,196,197,198) have mixed types. Specify dtype option on import or set low_memory=False.\n",
      "  surveyDict[folder] = pd.read_csv(folderPath + \"\\\\\" + surveyResult[0], encoding=\"ISO-8859-1\")\n"
     ]
    },
    {
     "name": "stdout",
     "output_type": "stream",
     "text": [
      "2016\n",
      "2017\n",
      "2018\n"
     ]
    },
    {
     "name": "stderr",
     "output_type": "stream",
     "text": [
      "C:\\Users\\sce2rng\\AppData\\Local\\Temp\\ipykernel_23992\\3949131819.py:11: DtypeWarning: Columns (8,12,13,14,15,16,50,51,52,53,55,56,57,58,59,60,61,62,63,64,65,66,67,68,69,70,71,72,73,74,75,76,77,78,79,80,81,82,83,84,85,93,94,95,96,97,98,99,100,101,102,103,104,105,106,107,108,109,110,111,112,113,114,115,116,117,118,119,120,121,122,123,124,125,126,127,128) have mixed types. Specify dtype option on import or set low_memory=False.\n",
      "  surveyDict[folder] = pd.read_csv(folderPath + \"\\\\\" + surveyResult[0], encoding=\"ISO-8859-1\")\n"
     ]
    },
    {
     "name": "stdout",
     "output_type": "stream",
     "text": [
      "2019\n",
      "2020\n",
      "2021\n",
      "2022\n",
      "2023\n"
     ]
    }
   ],
   "source": [
    "import pandas as pd\n",
    "import os\n",
    "path = r'C:\\data'\n",
    "# Liste aller Ordner im Pfad\n",
    "folders = [f for f in os.listdir(path) if os.path.isdir(os.path.join(path, f))]\n",
    "surveyDict = {}\n"
   ]
  },
  {
   "cell_type": "code",
   "execution_count": null,
   "metadata": {},
   "outputs": [],
   "source": [
    "for folder in folders:\n",
    "    folderPath = path + \"\\\\\" + folder\n",
    "    print(folder)\n",
    "    surveyResult = [f for f in os.listdir(folderPath) if ('Survey Results' in f or \"Survey Responses\" in f or \"survey_results_public\" in f) and f.endswith('.csv')]\n",
    "    surveyDict[folder] = pd.read_csv(folderPath + \"\\\\\" + surveyResult[0], encoding=\"ISO-8859-1\") "
   ]
  },
  {
   "cell_type": "code",
   "execution_count": 7,
   "metadata": {},
   "outputs": [
    {
     "ename": "AttributeError",
     "evalue": "'list' object has no attribute 'split'",
     "output_type": "error",
     "traceback": [
      "\u001b[1;31m---------------------------------------------------------------------------\u001b[0m",
      "\u001b[1;31mAttributeError\u001b[0m                            Traceback (most recent call last)",
      "\u001b[1;32mc:\\Udacity-Projekt1\\main.ipynb Cell 4\u001b[0m line \u001b[0;36m2\n\u001b[0;32m      <a href='vscode-notebook-cell:/c%3A/Udacity-Projekt1/main.ipynb#W2sZmlsZQ%3D%3D?line=0'>1</a>\u001b[0m \u001b[39mwith\u001b[39;00m \u001b[39mopen\u001b[39m(path \u001b[39m+\u001b[39m \u001b[39m\"\u001b[39m\u001b[39m\\\\\u001b[39;00m\u001b[39m2016\u001b[39m\u001b[39m\"\u001b[39m \u001b[39m+\u001b[39m \u001b[39m\"\u001b[39m\u001b[39m\\\\\u001b[39;00m\u001b[39m\"\u001b[39m \u001b[39m+\u001b[39m \u001b[39m'\u001b[39m\u001b[39mREAD_ME_-_The_Public_2016_Stack_Overflow_Developer_Survey_Results.txt\u001b[39m\u001b[39m'\u001b[39m, \u001b[39m\"\u001b[39m\u001b[39mr\u001b[39m\u001b[39m\"\u001b[39m) \u001b[39mas\u001b[39;00m f:\n\u001b[1;32m----> <a href='vscode-notebook-cell:/c%3A/Udacity-Projekt1/main.ipynb#W2sZmlsZQ%3D%3D?line=1'>2</a>\u001b[0m     inhalt \u001b[39m=\u001b[39m f\u001b[39m.\u001b[39;49mreadlines()[\u001b[39m28\u001b[39;49m:]\u001b[39m.\u001b[39;49msplit(\u001b[39m\"\u001b[39m\u001b[39m---\u001b[39m\u001b[39m\"\u001b[39m)\n\u001b[0;32m      <a href='vscode-notebook-cell:/c%3A/Udacity-Projekt1/main.ipynb#W2sZmlsZQ%3D%3D?line=3'>4</a>\u001b[0m \u001b[39m#for folder in folders:\u001b[39;00m\n",
      "\u001b[1;31mAttributeError\u001b[0m: 'list' object has no attribute 'split'"
     ]
    }
   ],
   "source": [
    "with open(path + \"\\\\2016\" + \"\\\\\" + 'READ_ME_-_The_Public_2016_Stack_Overflow_Developer_Survey_Results.txt', \"r\") as f:\n",
    "    inhalt = f.readlines()[28:]\n",
    "\n",
    "\n",
    "#for folder in folders:\n",
    "    "
   ]
  },
  {
   "cell_type": "code",
   "execution_count": 27,
   "metadata": {},
   "outputs": [
    {
     "name": "stdout",
     "output_type": "stream",
     "text": [
      "2011\n",
      "[]\n",
      "2012\n",
      "['How many years of IT/Programming experience do you have?', 'How old are you?', 'In the last 12 months, how much money have you spent on personal technology-related purchases? ', 'Including bonus, what is your annual compensation in USD?', 'Unnamed: 10', 'Unnamed: 11', 'Unnamed: 12', 'Unnamed: 13', 'Unnamed: 16', 'Unnamed: 17', 'Unnamed: 18', 'Unnamed: 19', 'Unnamed: 23', 'Unnamed: 24', 'Unnamed: 25', 'Unnamed: 26', 'Unnamed: 27', 'Unnamed: 28', 'Unnamed: 31', 'Unnamed: 32', 'Unnamed: 33', 'Unnamed: 34', 'Unnamed: 35', 'Unnamed: 36', 'Unnamed: 47', 'Unnamed: 48', 'Unnamed: 49', 'Unnamed: 50', 'Unnamed: 51', 'Unnamed: 52', 'Unnamed: 53', 'Unnamed: 54', 'Unnamed: 55', 'Unnamed: 56', 'Unnamed: 57', 'Unnamed: 58', 'Unnamed: 59', 'Unnamed: 60', 'Unnamed: 61', 'Unnamed: 62', 'Unnamed: 9', 'What Country or Region do you live in?', 'What is your budget for outside expenditures (hardware, software, consulting, etc) for 2011?', 'What type of project are you developing?', 'What types of purchases are you involved in?', 'Which US State or Territory do you live in?', 'Which best describes the size of your company?', 'Which languages are you proficient in?', 'Which of our sites do you frequent most?', 'Which of the following best describes your occupation?', 'Which technology products do you own? (You can choose more than one)']\n",
      "2013\n",
      "['How many years of IT/Programming experience do you have?', 'How old are you?', 'How would you best describe the industry you currently work in?', 'Including bonus, what is your annual compensation in USD?', \"Please rate the advertising you've seen on Stack Overflow\", 'Unnamed: 10', 'Unnamed: 11', 'Unnamed: 12', 'Unnamed: 13', 'Unnamed: 15', 'Unnamed: 16', 'Unnamed: 17', 'Unnamed: 18', 'Unnamed: 23', 'Unnamed: 24', 'Unnamed: 25', 'Unnamed: 27', 'Unnamed: 28', 'Unnamed: 29', 'Unnamed: 30', 'Unnamed: 31', 'Unnamed: 32', 'Unnamed: 33', 'Unnamed: 35', 'Unnamed: 36', 'Unnamed: 43', 'Unnamed: 45', 'Unnamed: 46', 'Unnamed: 47', 'Unnamed: 48', 'Unnamed: 50', 'Unnamed: 51', 'Unnamed: 52', 'Unnamed: 53', 'Unnamed: 54', 'Unnamed: 57', 'Unnamed: 58', 'Unnamed: 59', 'Unnamed: 60', 'Unnamed: 61', 'Unnamed: 62', 'Unnamed: 63', 'Unnamed: 66', 'Unnamed: 67', 'Unnamed: 68', 'Unnamed: 69', 'Unnamed: 74', 'What Country or Region do you live in?', 'What advertisers do you remember seeing on Stack Overflow?', 'What is your current Stack Overflow reputation?', 'What is your involvement in purchasing products or services for the company you work for? (You can choose more than one)', 'What types of purchases are you involved in?', 'Which US State or Territory do you live in?', 'Which desktop operating system do you use the most?', 'Which of the following best describes your occupation?', 'Which technology products do you own? (You can choose more than one)']\n",
      "2014\n",
      "['Have you changed jobs in the last 12 months?', 'How do you use Stack Overflow?', 'How many years of IT/Programming experience do you have?', 'How old are you?', 'How would you best describe the industry you currently work in?', 'If your company has a native mobile app, what platforms do you support?', 'Including bonus, what is your annual compensation in USD?', \"Please rate the advertising you've seen on Stack Overflow\", 'Unnamed: 103', 'Unnamed: 104', 'Unnamed: 105', 'Unnamed: 106', 'Unnamed: 107', 'Unnamed: 108', 'Unnamed: 114', 'Unnamed: 117', 'Unnamed: 118', 'Unnamed: 14', 'Unnamed: 15', 'Unnamed: 16', 'Unnamed: 17', 'Unnamed: 18', 'Unnamed: 21', 'Unnamed: 22', 'Unnamed: 23', 'Unnamed: 24', 'Unnamed: 25', 'Unnamed: 27', 'Unnamed: 28', 'Unnamed: 30', 'Unnamed: 31', 'Unnamed: 32', 'Unnamed: 33', 'Unnamed: 35', 'Unnamed: 36', 'Unnamed: 37', 'Unnamed: 38', 'Unnamed: 39', 'Unnamed: 40', 'Unnamed: 43', 'Unnamed: 44', 'Unnamed: 45', 'Unnamed: 46', 'Unnamed: 47', 'Unnamed: 48', 'Unnamed: 50', 'Unnamed: 51', 'Unnamed: 52', 'Unnamed: 53', 'Unnamed: 57', 'Unnamed: 58', 'Unnamed: 59', 'Unnamed: 60', 'Unnamed: 61', 'Unnamed: 62', 'Unnamed: 63', 'Unnamed: 64', 'Unnamed: 65', 'Unnamed: 66', 'Unnamed: 69', 'Unnamed: 71', 'Unnamed: 72', 'Unnamed: 73', 'Unnamed: 74', 'Unnamed: 75', 'Unnamed: 76', 'Unnamed: 77', 'Unnamed: 78', 'Unnamed: 79', 'Unnamed: 80', 'Unnamed: 84', 'Unnamed: 88', 'Unnamed: 89', 'Unnamed: 90', 'Unnamed: 91', 'Unnamed: 93', 'Unnamed: 94', 'Unnamed: 95', 'Unnamed: 96', 'Unnamed: 97', 'What advertisers do you remember seeing on Stack Overflow?', 'What is your current Stack Overflow reputation?', 'What is your involvement in purchasing products or services for the company you work for? (You can choose more than one)', 'What types of purchases are you involved in?', 'Which US State or Territory do you live in?', 'Which desktop operating system do you use the most?', 'Which of the following best describes your occupation?', 'Which of the following languages or technologies have you used significantly in the past year?', 'Which technologies are you excited about?', 'Which technology products do you own? (You can choose more than one)']\n",
      "2015\n",
      "['Unnamed: 1', 'Unnamed: 103', 'Unnamed: 104', 'Unnamed: 105', 'Unnamed: 106', 'Unnamed: 107', 'Unnamed: 108', 'Unnamed: 115', 'Unnamed: 116', 'Unnamed: 117', 'Unnamed: 118', 'Unnamed: 14', 'Unnamed: 15', 'Unnamed: 16', 'Unnamed: 17', 'Unnamed: 18', 'Unnamed: 19', 'Unnamed: 21', 'Unnamed: 22', 'Unnamed: 23', 'Unnamed: 24', 'Unnamed: 25', 'Unnamed: 26', 'Unnamed: 27', 'Unnamed: 28', 'Unnamed: 30', 'Unnamed: 31', 'Unnamed: 32', 'Unnamed: 33', 'Unnamed: 35', 'Unnamed: 36', 'Unnamed: 37', 'Unnamed: 38', 'Unnamed: 39', 'Unnamed: 40', 'Unnamed: 43', 'Unnamed: 44', 'Unnamed: 45', 'Unnamed: 46', 'Unnamed: 47', 'Unnamed: 48', 'Unnamed: 49', 'Unnamed: 50', 'Unnamed: 52', 'Unnamed: 53', 'Unnamed: 55', 'Unnamed: 56', 'Unnamed: 57', 'Unnamed: 58', 'Unnamed: 59', 'Unnamed: 60', 'Unnamed: 61', 'Unnamed: 62', 'Unnamed: 63', 'Unnamed: 64', 'Unnamed: 65', 'Unnamed: 66', 'Unnamed: 69', 'Unnamed: 70', 'Unnamed: 71', 'Unnamed: 72', 'Unnamed: 73', 'Unnamed: 74', 'Unnamed: 75', 'Unnamed: 76', 'Unnamed: 77', 'Unnamed: 78', 'Unnamed: 79', 'Unnamed: 80', 'Unnamed: 81', 'Unnamed: 84', 'Unnamed: 88', 'Unnamed: 89', 'Unnamed: 90', 'Unnamed: 91', 'Unnamed: 93', 'Unnamed: 95', 'Unnamed: 96', 'Unnamed: 97', 'Unnamed: 98']\n",
      "2016\n",
      "['Unnamed: 0']\n",
      "2017\n",
      "[]\n",
      "2018\n",
      "['CareerSatisfaction', 'CheckInCode', 'CompanySize', 'Country', 'Currency', 'EducationTypes', 'FormalEducation', 'Gender', 'IDE', 'JobSatisfaction', 'LastNewJob', 'Methodology', 'Respondent', 'Salary', 'SelfTaughtTypes', 'TimeAfterBootcamp', 'VersionControl']\n",
      "2019\n",
      "['Age', 'Country', 'CurrencySymbol', 'DatabaseDesireNextYear', 'DatabaseWorkedWith', 'Dependents', 'DevType', 'Employment', 'Gender', 'LanguageDesireNextYear', 'LanguageWorkedWith', 'OpenSource', 'PlatformDesireNextYear', 'PlatformWorkedWith', 'Respondent', 'Student', 'UndergradMajor']\n",
      "2020\n",
      "['Age', 'Age1stCode', 'CompFreq', 'CompTotal', 'ConvertedComp', 'Country', 'CurrencyDesc', 'CurrencySymbol', 'DatabaseDesireNextYear', 'DatabaseWorkedWith', 'DevType', 'EdLevel', 'Employment', 'Ethnicity', 'Gender', 'Hobbyist', 'JobFactors', 'JobSat', 'JobSeek', 'LanguageDesireNextYear', 'LanguageWorkedWith', 'MainBranch', 'MiscTechDesireNextYear', 'MiscTechWorkedWith', 'OpSys', 'OrgSize', 'PlatformDesireNextYear', 'PlatformWorkedWith', 'PurchaseWhat', 'Respondent', 'SOAccount', 'SOComm', 'SOPartFreq', 'SOVisitFreq', 'Sexuality', 'SurveyEase', 'SurveyLength', 'Trans', 'UndergradMajor', 'WelcomeChange', 'WorkWeekHrs', 'YearsCode', 'YearsCodePro']\n",
      "2021\n",
      "['Age', 'Age1stCode', 'CompFreq', 'CompTotal', 'Country', 'DevType', 'EdLevel', 'Employment', 'Ethnicity', 'Gender', 'MainBranch', 'NEWOtherComms', 'NEWSOSites', 'NEWStuck', 'OpSys', 'OrgSize', 'SOAccount', 'SOComm', 'SOPartFreq', 'SOVisitFreq', 'Sexuality', 'SurveyEase', 'SurveyLength', 'Trans', 'YearsCode', 'YearsCodePro']\n",
      "2022\n",
      "['Accessibility', 'Age', 'CompFreq', 'CompTotal', 'ConvertedCompYearly', 'Country', 'Currency', 'DatabaseHaveWorkedWith', 'DatabaseWantToWorkWith', 'DevType', 'EdLevel', 'Employment', 'Ethnicity', 'Gender', 'LanguageHaveWorkedWith', 'LanguageWantToWorkWith', 'LearnCode', 'MainBranch', 'MentalHealth', 'MiscTechHaveWorkedWith', 'MiscTechWantToWorkWith', 'NEWCollabToolsHaveWorkedWith', 'NEWCollabToolsWantToWorkWith', 'NEWSOSites', 'OrgSize', 'PlatformHaveWorkedWith', 'PlatformWantToWorkWith', 'ResponseId', 'SOAccount', 'SOComm', 'SOPartFreq', 'SOVisitFreq', 'Sexuality', 'SurveyEase', 'SurveyLength', 'ToolsTechHaveWorkedWith', 'ToolsTechWantToWorkWith', 'Trans', 'WebframeHaveWorkedWith', 'WebframeWantToWorkWith', 'YearsCode', 'YearsCodePro']\n",
      "2023\n",
      "['Age', 'BuyNewTool', 'CodingActivities', 'CompTotal', 'ConvertedCompYearly', 'Country', 'Currency', 'DatabaseHaveWorkedWith', 'DatabaseWantToWorkWith', 'DevType', 'EdLevel', 'Employment', 'Frequency_1', 'Frequency_2', 'Frequency_3', 'ICorPM', 'Knowledge_1', 'Knowledge_2', 'Knowledge_3', 'Knowledge_4', 'Knowledge_5', 'Knowledge_6', 'Knowledge_7', 'LanguageHaveWorkedWith', 'LanguageWantToWorkWith', 'LearnCode', 'LearnCodeCoursesCert', 'LearnCodeOnline', 'MainBranch', 'MiscTechHaveWorkedWith', 'MiscTechWantToWorkWith', 'NEWCollabToolsHaveWorkedWith', 'NEWCollabToolsWantToWorkWith', 'NEWSOSites', 'OfficeStackAsyncHaveWorkedWith', 'OfficeStackAsyncWantToWorkWith', 'OfficeStackSyncHaveWorkedWith', 'OfficeStackSyncWantToWorkWith', 'OpSysPersonal use', 'OpSysProfessional use', 'OrgSize', 'PlatformHaveWorkedWith', 'PlatformWantToWorkWith', 'ProfessionalTech', 'PurchaseInfluence', 'RemoteWork', 'ResponseId', 'SOAccount', 'SOComm', 'SOPartFreq', 'SOVisitFreq', 'SurveyEase', 'SurveyLength', 'TBranch', 'TimeAnswering', 'TimeSearching', 'ToolsTechHaveWorkedWith', 'ToolsTechWantToWorkWith', 'WebframeHaveWorkedWith', 'WebframeWantToWorkWith', 'WorkExp', 'YearsCode', 'YearsCodePro']\n"
     ]
    }
   ],
   "source": [
    "lastColumns = []\n",
    "for key in surveyDict.keys():\n",
    "    columns = surveyDict[key].columns\n",
    "    sameColumns = list(set(columns) & set(lastColumns))\n",
    "    # lastColumns = list(set(columns + lastColumns))\n",
    "    # print(\"New columns from \" + key)\n",
    "    # for newcolumn in newColumns:\n",
    "    #     print(newcolumn)\n",
    "    print(key)\n",
    "    print(sort(sameColumns))\n",
    "    lastColumns = columns\n"
   ]
  }
 ],
 "metadata": {
  "kernelspec": {
   "display_name": "Python 3",
   "language": "python",
   "name": "python3"
  },
  "language_info": {
   "codemirror_mode": {
    "name": "ipython",
    "version": 3
   },
   "file_extension": ".py",
   "mimetype": "text/x-python",
   "name": "python",
   "nbconvert_exporter": "python",
   "pygments_lexer": "ipython3",
   "version": "3.10.12"
  }
 },
 "nbformat": 4,
 "nbformat_minor": 2
}
