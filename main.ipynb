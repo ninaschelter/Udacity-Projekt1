{
 "cells": [
  {
   "cell_type": "code",
   "execution_count": 14,
   "metadata": {},
   "outputs": [
    {
     "name": "stdout",
     "output_type": "stream",
     "text": [
      "test\n"
     ]
    }
   ],
   "source": [
    "# first test\n",
    "print(\"test\")"
   ]
  },
  {
   "cell_type": "code",
   "execution_count": 15,
   "metadata": {},
   "outputs": [
    {
     "data": {
      "text/plain": [
       "['2011',\n",
       " '2012',\n",
       " '2013',\n",
       " '2014',\n",
       " '2015',\n",
       " '2016',\n",
       " '2017',\n",
       " '2018',\n",
       " '2019',\n",
       " '2020',\n",
       " '2021',\n",
       " '2022',\n",
       " '2023']"
      ]
     },
     "execution_count": 15,
     "metadata": {},
     "output_type": "execute_result"
    }
   ],
   "source": [
    "import pandas as pd\n",
    "import os\n",
    "path = r'C:\\data\\udacity\\stackoverflow_survey'\n",
    "# Liste aller Ordner im Pfad\n",
    "folders = [f for f in os.listdir(path) if os.path.isdir(os.path.join(path, f))]\n",
    "surveyDict = {}\n",
    "folders\n"
   ]
  },
  {
   "cell_type": "code",
   "execution_count": 16,
   "metadata": {},
   "outputs": [
    {
     "name": "stdout",
     "output_type": "stream",
     "text": [
      "2011\n",
      "2012\n",
      "2013\n"
     ]
    },
    {
     "name": "stderr",
     "output_type": "stream",
     "text": [
      "C:\\Users\\sce2rng\\AppData\\Local\\Temp\\ipykernel_20248\\1059863488.py:9: DtypeWarning: Columns (46,48,62) have mixed types. Specify dtype option on import or set low_memory=False.\n",
      "  surveyDict[folder] = pd.read_csv(folderPath + \"\\\\\" + surveyResult[0], encoding=\"ISO-8859-1\")\n"
     ]
    },
    {
     "name": "stdout",
     "output_type": "stream",
     "text": [
      "2014\n",
      "2015\n"
     ]
    },
    {
     "name": "stderr",
     "output_type": "stream",
     "text": [
      "C:\\Users\\sce2rng\\AppData\\Local\\Temp\\ipykernel_20248\\1059863488.py:7: DtypeWarning: Columns (5,108,121,196,197,198) have mixed types. Specify dtype option on import or set low_memory=False.\n",
      "  surveyDict[folder] = pd.read_csv(folderPath + \"\\\\\" + surveyResult[0], encoding=\"ISO-8859-1\", skiprows=1)\n"
     ]
    },
    {
     "name": "stdout",
     "output_type": "stream",
     "text": [
      "2016\n",
      "2017\n",
      "2018\n"
     ]
    },
    {
     "name": "stderr",
     "output_type": "stream",
     "text": [
      "C:\\Users\\sce2rng\\AppData\\Local\\Temp\\ipykernel_20248\\1059863488.py:9: DtypeWarning: Columns (8,12,13,14,15,16,50,51,52,53,55,56,57,58,59,60,61,62,63,64,65,66,67,68,69,70,71,72,73,74,75,76,77,78,79,80,81,82,83,84,85,93,94,95,96,97,98,99,100,101,102,103,104,105,106,107,108,109,110,111,112,113,114,115,116,117,118,119,120,121,122,123,124,125,126,127,128) have mixed types. Specify dtype option on import or set low_memory=False.\n",
      "  surveyDict[folder] = pd.read_csv(folderPath + \"\\\\\" + surveyResult[0], encoding=\"ISO-8859-1\")\n"
     ]
    },
    {
     "name": "stdout",
     "output_type": "stream",
     "text": [
      "2019\n",
      "2020\n",
      "2021\n",
      "2022\n",
      "2023\n"
     ]
    }
   ],
   "source": [
    "for folder in folders:\n",
    "    folderPath = path + \"\\\\\" + folder\n",
    "    print(folder)\n",
    "    surveyResult = [f for f in os.listdir(folderPath) if ('Survey Results' in f or \"Survey Responses\" in f or \"survey_results_public\" in f) and f.endswith('.csv')]\n",
    "    \n",
    "    if folder == \"2015\":  \n",
    "        surveyDict[folder] = pd.read_csv(folderPath + \"\\\\\" + surveyResult[0], encoding=\"ISO-8859-1\", skiprows=1)\n",
    "    else:  \n",
    "        surveyDict[folder] = pd.read_csv(folderPath + \"\\\\\" + surveyResult[0], encoding=\"ISO-8859-1\")"
   ]
  },
  {
   "cell_type": "code",
   "execution_count": 17,
   "metadata": {},
   "outputs": [],
   "source": [
    "with open(path + \"\\\\2016\" + \"\\\\\" + 'READ_ME_-_The_Public_2016_Stack_Overflow_Developer_Survey_Results.txt', \"r\") as f:\n",
    "    inhalt = f.readlines()[28:]\n",
    "\n",
    "\n",
    "#for folder in folders:\n",
    "    "
   ]
  },
  {
   "cell_type": "code",
   "execution_count": 18,
   "metadata": {},
   "outputs": [
    {
     "name": "stdout",
     "output_type": "stream",
     "text": [
      "2011\n",
      "[]\n",
      "2012\n",
      "['How many years of IT/Programming experience do you have?', 'How old are you?', 'In the last 12 months, how much money have you spent on personal technology-related purchases? ', 'Including bonus, what is your annual compensation in USD?', 'Unnamed: 10', 'Unnamed: 11', 'Unnamed: 12', 'Unnamed: 13', 'Unnamed: 16', 'Unnamed: 17', 'Unnamed: 18', 'Unnamed: 19', 'Unnamed: 23', 'Unnamed: 24', 'Unnamed: 25', 'Unnamed: 26', 'Unnamed: 27', 'Unnamed: 28', 'Unnamed: 31', 'Unnamed: 32', 'Unnamed: 33', 'Unnamed: 34', 'Unnamed: 35', 'Unnamed: 36', 'Unnamed: 47', 'Unnamed: 48', 'Unnamed: 49', 'Unnamed: 50', 'Unnamed: 51', 'Unnamed: 52', 'Unnamed: 53', 'Unnamed: 54', 'Unnamed: 55', 'Unnamed: 56', 'Unnamed: 57', 'Unnamed: 58', 'Unnamed: 59', 'Unnamed: 60', 'Unnamed: 61', 'Unnamed: 62', 'Unnamed: 9', 'What Country or Region do you live in?', 'What is your budget for outside expenditures (hardware, software, consulting, etc) for 2011?', 'What type of project are you developing?', 'What types of purchases are you involved in?', 'Which US State or Territory do you live in?', 'Which best describes the size of your company?', 'Which languages are you proficient in?', 'Which of our sites do you frequent most?', 'Which of the following best describes your occupation?', 'Which technology products do you own? (You can choose more than one)']\n",
      "2013\n",
      "['How many years of IT/Programming experience do you have?', 'How old are you?', 'How would you best describe the industry you currently work in?', 'Including bonus, what is your annual compensation in USD?', \"Please rate the advertising you've seen on Stack Overflow\", 'Unnamed: 10', 'Unnamed: 11', 'Unnamed: 12', 'Unnamed: 13', 'Unnamed: 15', 'Unnamed: 16', 'Unnamed: 17', 'Unnamed: 18', 'Unnamed: 23', 'Unnamed: 24', 'Unnamed: 25', 'Unnamed: 27', 'Unnamed: 28', 'Unnamed: 29', 'Unnamed: 30', 'Unnamed: 31', 'Unnamed: 32', 'Unnamed: 33', 'Unnamed: 35', 'Unnamed: 36', 'Unnamed: 43', 'Unnamed: 45', 'Unnamed: 46', 'Unnamed: 47', 'Unnamed: 48', 'Unnamed: 50', 'Unnamed: 51', 'Unnamed: 52', 'Unnamed: 53', 'Unnamed: 54', 'Unnamed: 57', 'Unnamed: 58', 'Unnamed: 59', 'Unnamed: 60', 'Unnamed: 61', 'Unnamed: 62', 'Unnamed: 63', 'Unnamed: 66', 'Unnamed: 67', 'Unnamed: 68', 'Unnamed: 69', 'Unnamed: 74', 'What Country or Region do you live in?', 'What advertisers do you remember seeing on Stack Overflow?', 'What is your current Stack Overflow reputation?', 'What is your involvement in purchasing products or services for the company you work for? (You can choose more than one)', 'What types of purchases are you involved in?', 'Which US State or Territory do you live in?', 'Which desktop operating system do you use the most?', 'Which of the following best describes your occupation?', 'Which technology products do you own? (You can choose more than one)']\n",
      "2014\n",
      "['Have you changed jobs in the last 12 months?', 'How do you use Stack Overflow?', 'How many years of IT/Programming experience do you have?', 'How old are you?', 'How would you best describe the industry you currently work in?', 'If your company has a native mobile app, what platforms do you support?', 'Including bonus, what is your annual compensation in USD?', \"Please rate the advertising you've seen on Stack Overflow\", 'Unnamed: 103', 'Unnamed: 104', 'Unnamed: 105', 'Unnamed: 106', 'Unnamed: 107', 'Unnamed: 108', 'Unnamed: 114', 'Unnamed: 117', 'Unnamed: 118', 'Unnamed: 14', 'Unnamed: 15', 'Unnamed: 16', 'Unnamed: 17', 'Unnamed: 18', 'Unnamed: 21', 'Unnamed: 22', 'Unnamed: 23', 'Unnamed: 24', 'Unnamed: 25', 'Unnamed: 27', 'Unnamed: 28', 'Unnamed: 30', 'Unnamed: 31', 'Unnamed: 32', 'Unnamed: 33', 'Unnamed: 35', 'Unnamed: 36', 'Unnamed: 37', 'Unnamed: 38', 'Unnamed: 39', 'Unnamed: 40', 'Unnamed: 43', 'Unnamed: 44', 'Unnamed: 45', 'Unnamed: 46', 'Unnamed: 47', 'Unnamed: 48', 'Unnamed: 50', 'Unnamed: 51', 'Unnamed: 52', 'Unnamed: 53', 'Unnamed: 57', 'Unnamed: 58', 'Unnamed: 59', 'Unnamed: 60', 'Unnamed: 61', 'Unnamed: 62', 'Unnamed: 63', 'Unnamed: 64', 'Unnamed: 65', 'Unnamed: 66', 'Unnamed: 69', 'Unnamed: 71', 'Unnamed: 72', 'Unnamed: 73', 'Unnamed: 74', 'Unnamed: 75', 'Unnamed: 76', 'Unnamed: 77', 'Unnamed: 78', 'Unnamed: 79', 'Unnamed: 80', 'Unnamed: 84', 'Unnamed: 88', 'Unnamed: 89', 'Unnamed: 90', 'Unnamed: 91', 'Unnamed: 93', 'Unnamed: 94', 'Unnamed: 95', 'Unnamed: 96', 'Unnamed: 97', 'What advertisers do you remember seeing on Stack Overflow?', 'What is your current Stack Overflow reputation?', 'What is your involvement in purchasing products or services for the company you work for? (You can choose more than one)', 'What types of purchases are you involved in?', 'Which US State or Territory do you live in?', 'Which desktop operating system do you use the most?', 'Which of the following best describes your occupation?', 'Which of the following languages or technologies have you used significantly in the past year?', 'Which technologies are you excited about?', 'Which technology products do you own? (You can choose more than one)']\n",
      "2015\n",
      "[]\n",
      "2016\n",
      "[]\n",
      "2017\n",
      "[]\n",
      "2018\n",
      "['CareerSatisfaction', 'CheckInCode', 'CompanySize', 'Country', 'Currency', 'EducationTypes', 'FormalEducation', 'Gender', 'IDE', 'JobSatisfaction', 'LastNewJob', 'Methodology', 'Respondent', 'Salary', 'SelfTaughtTypes', 'TimeAfterBootcamp', 'VersionControl']\n",
      "2019\n",
      "['Age', 'Country', 'CurrencySymbol', 'DatabaseDesireNextYear', 'DatabaseWorkedWith', 'Dependents', 'DevType', 'Employment', 'Gender', 'LanguageDesireNextYear', 'LanguageWorkedWith', 'OpenSource', 'PlatformDesireNextYear', 'PlatformWorkedWith', 'Respondent', 'Student', 'UndergradMajor']\n",
      "2020\n",
      "['Age', 'Age1stCode', 'CompFreq', 'CompTotal', 'ConvertedComp', 'Country', 'CurrencyDesc', 'CurrencySymbol', 'DatabaseDesireNextYear', 'DatabaseWorkedWith', 'DevType', 'EdLevel', 'Employment', 'Ethnicity', 'Gender', 'Hobbyist', 'JobFactors', 'JobSat', 'JobSeek', 'LanguageDesireNextYear', 'LanguageWorkedWith', 'MainBranch', 'MiscTechDesireNextYear', 'MiscTechWorkedWith', 'OpSys', 'OrgSize', 'PlatformDesireNextYear', 'PlatformWorkedWith', 'PurchaseWhat', 'Respondent', 'SOAccount', 'SOComm', 'SOPartFreq', 'SOVisitFreq', 'Sexuality', 'SurveyEase', 'SurveyLength', 'Trans', 'UndergradMajor', 'WelcomeChange', 'WorkWeekHrs', 'YearsCode', 'YearsCodePro']\n",
      "2021\n",
      "['Age', 'Age1stCode', 'CompFreq', 'CompTotal', 'Country', 'DevType', 'EdLevel', 'Employment', 'Ethnicity', 'Gender', 'MainBranch', 'NEWOtherComms', 'NEWSOSites', 'NEWStuck', 'OpSys', 'OrgSize', 'SOAccount', 'SOComm', 'SOPartFreq', 'SOVisitFreq', 'Sexuality', 'SurveyEase', 'SurveyLength', 'Trans', 'YearsCode', 'YearsCodePro']\n",
      "2022\n",
      "['Accessibility', 'Age', 'CompFreq', 'CompTotal', 'ConvertedCompYearly', 'Country', 'Currency', 'DatabaseHaveWorkedWith', 'DatabaseWantToWorkWith', 'DevType', 'EdLevel', 'Employment', 'Ethnicity', 'Gender', 'LanguageHaveWorkedWith', 'LanguageWantToWorkWith', 'LearnCode', 'MainBranch', 'MentalHealth', 'MiscTechHaveWorkedWith', 'MiscTechWantToWorkWith', 'NEWCollabToolsHaveWorkedWith', 'NEWCollabToolsWantToWorkWith', 'NEWSOSites', 'OrgSize', 'PlatformHaveWorkedWith', 'PlatformWantToWorkWith', 'ResponseId', 'SOAccount', 'SOComm', 'SOPartFreq', 'SOVisitFreq', 'Sexuality', 'SurveyEase', 'SurveyLength', 'ToolsTechHaveWorkedWith', 'ToolsTechWantToWorkWith', 'Trans', 'WebframeHaveWorkedWith', 'WebframeWantToWorkWith', 'YearsCode', 'YearsCodePro']\n",
      "2023\n",
      "['Age', 'BuyNewTool', 'CodingActivities', 'CompTotal', 'ConvertedCompYearly', 'Country', 'Currency', 'DatabaseHaveWorkedWith', 'DatabaseWantToWorkWith', 'DevType', 'EdLevel', 'Employment', 'Frequency_1', 'Frequency_2', 'Frequency_3', 'ICorPM', 'Knowledge_1', 'Knowledge_2', 'Knowledge_3', 'Knowledge_4', 'Knowledge_5', 'Knowledge_6', 'Knowledge_7', 'LanguageHaveWorkedWith', 'LanguageWantToWorkWith', 'LearnCode', 'LearnCodeCoursesCert', 'LearnCodeOnline', 'MainBranch', 'MiscTechHaveWorkedWith', 'MiscTechWantToWorkWith', 'NEWCollabToolsHaveWorkedWith', 'NEWCollabToolsWantToWorkWith', 'NEWSOSites', 'OfficeStackAsyncHaveWorkedWith', 'OfficeStackAsyncWantToWorkWith', 'OfficeStackSyncHaveWorkedWith', 'OfficeStackSyncWantToWorkWith', 'OpSysPersonal use', 'OpSysProfessional use', 'OrgSize', 'PlatformHaveWorkedWith', 'PlatformWantToWorkWith', 'ProfessionalTech', 'PurchaseInfluence', 'RemoteWork', 'ResponseId', 'SOAccount', 'SOComm', 'SOPartFreq', 'SOVisitFreq', 'SurveyEase', 'SurveyLength', 'TBranch', 'TimeAnswering', 'TimeSearching', 'ToolsTechHaveWorkedWith', 'ToolsTechWantToWorkWith', 'WebframeHaveWorkedWith', 'WebframeWantToWorkWith', 'WorkExp', 'YearsCode', 'YearsCodePro']\n"
     ]
    }
   ],
   "source": [
    "lastColumns = []\n",
    "for key in surveyDict.keys():\n",
    "    columns = surveyDict[key].columns\n",
    "    print(key)\n",
    "    #print(columns)\n",
    "    sameColumns = list(set(columns) & set(lastColumns))\n",
    "    sameColumns.sort()\n",
    "    print(sameColumns)\n",
    "    lastColumns = columns\n"
   ]
  },
  {
   "cell_type": "code",
   "execution_count": 27,
   "metadata": {},
   "outputs": [
    {
     "name": "stdout",
     "output_type": "stream",
     "text": [
      "dict_keys(['2011', '2012', '2013', '2014', '2015', '2016', '2017', '2018', '2019', '2020', '2021', '2022', '2023'])\n",
      "['Age', 'Country', 'DevType', 'Employment']\n",
      "['Age', 'CompTotal', 'Country', 'DevType', 'EdLevel', 'Employment', 'MainBranch', 'OrgSize', 'SOAccount', 'SOComm', 'SOPartFreq', 'SOVisitFreq', 'SurveyEase', 'SurveyLength', 'YearsCode', 'YearsCodePro']\n",
      "['Age', 'CompTotal', 'Country', 'DevType', 'EdLevel', 'Employment', 'MainBranch', 'NEWSOSites', 'OrgSize', 'SOAccount', 'SOComm', 'SOPartFreq', 'SOVisitFreq', 'SurveyEase', 'SurveyLength', 'YearsCode', 'YearsCodePro']\n"
     ]
    }
   ],
   "source": [
    "sameColumns = []\n",
    "#del surveyDict[\"2011\"], surveyDict[\"2012\"], surveyDict[\"2013\"], surveyDict[\"2014\"], surveyDict[\"2015\"], surveyDict[\"2016\"], \n",
    "#del surveyDict[\"2017\"]\n",
    "#del surveyDict[\"2018\"]\n",
    "#del surveyDict[\"2019\"]\n",
    "print(surveyDict.keys())\n",
    "\n",
    "sameColumns = list(set(surveyDict[\"2018\"].columns) & set(surveyDict[\"2019\"].columns) & set(surveyDict[\"2020\"].columns) & set(surveyDict[\"2021\"].columns) & set(surveyDict[\"2022\"].columns) & set(surveyDict[\"2023\"].columns))\n",
    "sameColumns.sort()\n",
    "print(sameColumns)  \n",
    "sameColumns = list(set(surveyDict[\"2019\"].columns) & set(surveyDict[\"2020\"].columns) & set(surveyDict[\"2021\"].columns) & set(surveyDict[\"2022\"].columns) & set(surveyDict[\"2023\"].columns))\n",
    "sameColumns.sort()\n",
    "print(sameColumns)\n",
    "sameColumns = list(set(surveyDict[\"2020\"].columns) & set(surveyDict[\"2021\"].columns) & set(surveyDict[\"2022\"].columns) & set(surveyDict[\"2023\"].columns))\n",
    "sameColumns.sort()\n",
    "print(sameColumns)"
   ]
  },
  {
   "cell_type": "code",
   "execution_count": 31,
   "metadata": {},
   "outputs": [
    {
     "name": "stdout",
     "output_type": "stream",
     "text": [
      "2014\n",
      "Do you work remotely?\n",
      "2014\n",
      "Do you enjoy working remotely?\n",
      "2014\n",
      "Where do you work remotely most of the time?\n",
      "2015\n",
      "Remote Status\n",
      "2015\n",
      "Most important aspect of new job opportunity: Remote working\n",
      "2015\n",
      "How important is remote when evaluating new job opportunity?\n",
      "2015\n",
      "How can companies improve interview process: Remote interviews\n",
      "2016\n",
      "remote\n",
      "2017\n",
      "HomeRemote\n",
      "2017\n",
      "AssessJobRemote\n",
      "2017\n",
      "CollaborateRemote\n",
      "2019\n",
      "WorkRemote\n",
      "2022\n",
      "RemoteWork\n",
      "2023\n",
      "RemoteWork\n"
     ]
    }
   ],
   "source": [
    "for key in surveyDict.keys():\n",
    "    columns = list(surveyDict[key].columns)\n",
    "    for item in columns:\n",
    "        if \"remote\" in item.lower():\n",
    "            print(key)\n",
    "            print(item)\n"
   ]
  },
  {
   "cell_type": "code",
   "execution_count": 37,
   "metadata": {},
   "outputs": [
    {
     "name": "stdout",
     "output_type": "stream",
     "text": [
      "2011\n",
      "Please rate your job/career satisfaction\n",
      "2012\n",
      "What best describes your career / job satisfaction? \n",
      "2013\n",
      "What best describes your career / job satisfaction?\n",
      "2015\n",
      "Job Satisfaction\n",
      "2016\n",
      "job_satisfaction\n",
      "2017\n",
      "CareerSatisfaction\n",
      "2017\n",
      "JobSatisfaction\n",
      "2017\n",
      "StackOverflowSatisfaction\n",
      "2018\n",
      "JobSatisfaction\n",
      "2018\n",
      "CareerSatisfaction\n",
      "2019\n",
      "CareerSat\n",
      "2019\n",
      "JobSat\n",
      "2020\n",
      "JobSat\n"
     ]
    }
   ],
   "source": [
    "for key in surveyDict.keys():\n",
    "    columns = list(surveyDict[key].columns)\n",
    "    for item in columns:\n",
    "        if int(key) > 2017:\n",
    "            if \"sat\" in item.lower():\n",
    "                print(key)\n",
    "                print(item)\n",
    "        else:\n",
    "            if \"satisfaction\" in item.lower():\n",
    "                print(key)\n",
    "                print(item)"
   ]
  },
  {
   "cell_type": "code",
   "execution_count": 36,
   "metadata": {},
   "outputs": [
    {
     "name": "stdout",
     "output_type": "stream",
     "text": [
      "2011\n",
      "Including bonus, what is your annual compensation in USD?\n",
      "2012\n",
      "Including bonus, what is your annual compensation in USD?\n",
      "2013\n",
      "Including bonus, what is your annual compensation in USD?\n",
      "2014\n",
      "Including bonus, what is your annual compensation in USD?\n",
      "2015\n",
      "Compensation\n",
      "2015\n",
      "Compensation: midpoint\n",
      "2017\n",
      "AssessJobCompensation\n",
      "2019\n",
      "CompTotal\n",
      "2019\n",
      "CompFreq\n",
      "2019\n",
      "ConvertedComp\n",
      "2020\n",
      "CompFreq\n",
      "2020\n",
      "CompTotal\n",
      "2020\n",
      "ConvertedComp\n",
      "2021\n",
      "CompTotal\n",
      "2021\n",
      "CompFreq\n",
      "2021\n",
      "ConvertedCompYearly\n",
      "2022\n",
      "CompTotal\n",
      "2022\n",
      "CompFreq\n",
      "2022\n",
      "ConvertedCompYearly\n",
      "2023\n",
      "CompTotal\n",
      "2023\n",
      "ConvertedCompYearly\n"
     ]
    }
   ],
   "source": [
    "for key in surveyDict.keys():\n",
    "    columns = list(surveyDict[key].columns)\n",
    "    for item in columns:\n",
    "        if int(key) > 2018:\n",
    "            if \"comp\" in item.lower():\n",
    "                print(key)\n",
    "                print(item)\n",
    "        else:\n",
    "            if \"compensation\" in item.lower():\n",
    "                print(key)\n",
    "                print(item)"
   ]
  },
  {
   "cell_type": "code",
   "execution_count": 32,
   "metadata": {},
   "outputs": [
    {
     "data": {
      "text/plain": [
       "['Respondent',\n",
       " 'Hobby',\n",
       " 'OpenSource',\n",
       " 'Country',\n",
       " 'Student',\n",
       " 'Employment',\n",
       " 'FormalEducation',\n",
       " 'UndergradMajor',\n",
       " 'CompanySize',\n",
       " 'DevType',\n",
       " 'YearsCoding',\n",
       " 'YearsCodingProf',\n",
       " 'JobSatisfaction',\n",
       " 'CareerSatisfaction',\n",
       " 'HopeFiveYears',\n",
       " 'JobSearchStatus',\n",
       " 'LastNewJob',\n",
       " 'AssessJob1',\n",
       " 'AssessJob2',\n",
       " 'AssessJob3',\n",
       " 'AssessJob4',\n",
       " 'AssessJob5',\n",
       " 'AssessJob6',\n",
       " 'AssessJob7',\n",
       " 'AssessJob8',\n",
       " 'AssessJob9',\n",
       " 'AssessJob10',\n",
       " 'AssessBenefits1',\n",
       " 'AssessBenefits2',\n",
       " 'AssessBenefits3',\n",
       " 'AssessBenefits4',\n",
       " 'AssessBenefits5',\n",
       " 'AssessBenefits6',\n",
       " 'AssessBenefits7',\n",
       " 'AssessBenefits8',\n",
       " 'AssessBenefits9',\n",
       " 'AssessBenefits10',\n",
       " 'AssessBenefits11',\n",
       " 'JobContactPriorities1',\n",
       " 'JobContactPriorities2',\n",
       " 'JobContactPriorities3',\n",
       " 'JobContactPriorities4',\n",
       " 'JobContactPriorities5',\n",
       " 'JobEmailPriorities1',\n",
       " 'JobEmailPriorities2',\n",
       " 'JobEmailPriorities3',\n",
       " 'JobEmailPriorities4',\n",
       " 'JobEmailPriorities5',\n",
       " 'JobEmailPriorities6',\n",
       " 'JobEmailPriorities7',\n",
       " 'UpdateCV',\n",
       " 'Currency',\n",
       " 'Salary',\n",
       " 'SalaryType',\n",
       " 'ConvertedSalary',\n",
       " 'CurrencySymbol',\n",
       " 'CommunicationTools',\n",
       " 'TimeFullyProductive',\n",
       " 'EducationTypes',\n",
       " 'SelfTaughtTypes',\n",
       " 'TimeAfterBootcamp',\n",
       " 'HackathonReasons',\n",
       " 'AgreeDisagree1',\n",
       " 'AgreeDisagree2',\n",
       " 'AgreeDisagree3',\n",
       " 'LanguageWorkedWith',\n",
       " 'LanguageDesireNextYear',\n",
       " 'DatabaseWorkedWith',\n",
       " 'DatabaseDesireNextYear',\n",
       " 'PlatformWorkedWith',\n",
       " 'PlatformDesireNextYear',\n",
       " 'FrameworkWorkedWith',\n",
       " 'FrameworkDesireNextYear',\n",
       " 'IDE',\n",
       " 'OperatingSystem',\n",
       " 'NumberMonitors',\n",
       " 'Methodology',\n",
       " 'VersionControl',\n",
       " 'CheckInCode',\n",
       " 'AdBlocker',\n",
       " 'AdBlockerDisable',\n",
       " 'AdBlockerReasons',\n",
       " 'AdsAgreeDisagree1',\n",
       " 'AdsAgreeDisagree2',\n",
       " 'AdsAgreeDisagree3',\n",
       " 'AdsActions',\n",
       " 'AdsPriorities1',\n",
       " 'AdsPriorities2',\n",
       " 'AdsPriorities3',\n",
       " 'AdsPriorities4',\n",
       " 'AdsPriorities5',\n",
       " 'AdsPriorities6',\n",
       " 'AdsPriorities7',\n",
       " 'AIDangerous',\n",
       " 'AIInteresting',\n",
       " 'AIResponsible',\n",
       " 'AIFuture',\n",
       " 'EthicsChoice',\n",
       " 'EthicsReport',\n",
       " 'EthicsResponsible',\n",
       " 'EthicalImplications',\n",
       " 'StackOverflowRecommend',\n",
       " 'StackOverflowVisit',\n",
       " 'StackOverflowHasAccount',\n",
       " 'StackOverflowParticipate',\n",
       " 'StackOverflowJobs',\n",
       " 'StackOverflowDevStory',\n",
       " 'StackOverflowJobsRecommend',\n",
       " 'StackOverflowConsiderMember',\n",
       " 'HypotheticalTools1',\n",
       " 'HypotheticalTools2',\n",
       " 'HypotheticalTools3',\n",
       " 'HypotheticalTools4',\n",
       " 'HypotheticalTools5',\n",
       " 'WakeTime',\n",
       " 'HoursComputer',\n",
       " 'HoursOutside',\n",
       " 'SkipMeals',\n",
       " 'ErgonomicDevices',\n",
       " 'Exercise',\n",
       " 'Gender',\n",
       " 'SexualOrientation',\n",
       " 'EducationParents',\n",
       " 'RaceEthnicity',\n",
       " 'Age',\n",
       " 'Dependents',\n",
       " 'MilitaryUS',\n",
       " 'SurveyTooLong',\n",
       " 'SurveyEasy']"
      ]
     },
     "execution_count": 32,
     "metadata": {},
     "output_type": "execute_result"
    }
   ],
   "source": [
    "list(surveyDict[\"2018\"].columns)"
   ]
  }
 ],
 "metadata": {
  "kernelspec": {
   "display_name": "Python 3",
   "language": "python",
   "name": "python3"
  },
  "language_info": {
   "codemirror_mode": {
    "name": "ipython",
    "version": 3
   },
   "file_extension": ".py",
   "mimetype": "text/x-python",
   "name": "python",
   "nbconvert_exporter": "python",
   "pygments_lexer": "ipython3",
   "version": "3.10.13"
  }
 },
 "nbformat": 4,
 "nbformat_minor": 2
}
